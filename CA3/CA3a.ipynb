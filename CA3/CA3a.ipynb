{
 "cells": [
  {
   "cell_type": "code",
   "execution_count": 2,
   "metadata": {},
   "outputs": [],
   "source": [
    "import pandas as pd\n",
    "import numpy as np\n",
    "import matplotlib.pyplot as plt\n",
    "%matplotlib inline\n",
    "\n",
    "from scipy.optimize import newton\n",
    "from scipy.integrate import quad\n",
    "from scipy.stats import norm\n",
    "from numba import njit\n",
    "\n",
    "# plot styling\n",
    "plt.style.use('seaborn-darkgrid')\n",
    "plt.rcParams['font.family'] = 'HP Simplified Jpan' # 'DIN Alternate'\n",
    "plt.rcParams.update({'font.size': 13})\n",
    "plt_dpi = None # change to 500"
   ]
  },
  {
   "cell_type": "markdown",
   "metadata": {},
   "source": [
    "# Computer Assignment 3a\n",
    "## ALM analysis"
   ]
  },
  {
   "cell_type": "markdown",
   "metadata": {},
   "source": [
    "## 1. Explore the data"
   ]
  },
  {
   "cell_type": "code",
   "execution_count": null,
   "metadata": {},
   "outputs": [],
   "source": [
    "# import SCB data\n",
    "scb_xls = pd.ExcelFile('data/SCB_data_2016_2020.xlsx')\n",
    "\n",
    "# read sheets separately\n",
    "mean_pop_men_1620 = pd.read_excel(scb_xls, 'Mean_population_men', index_col='Age')\n",
    "mean_pop_women_1620 = pd.read_excel(scb_xls, 'Mean_population_women', index_col='Age')\n",
    "deaths_men_1620 = pd.read_excel(scb_xls, 'Deaths_men', index_col='Age')\n",
    "deaths_women_1620 = pd.read_excel(scb_xls, 'Deaths_women', index_col='Age')"
   ]
  },
  {
   "cell_type": "code",
   "execution_count": null,
   "metadata": {},
   "outputs": [],
   "source": [
    "# compute mean population between 2016 and 2020\n",
    "mean_pop_men = mean_pop_men_1620.mean(axis=1).to_frame()\n",
    "mean_pop_men.columns = ['Men']\n",
    "mean_pop_women = mean_pop_women_1620.mean(axis=1).to_frame()\n",
    "mean_pop_women.columns = ['Women']\n",
    "\n",
    "# visualize\n",
    "ax1 = mean_pop_men.plot(figsize=(8, 5))\n",
    "mean_pop_women.plot(ax=ax1)\n",
    "\n",
    "plt.legend(frameon=1, facecolor='white', framealpha=1, title='Gender')\n",
    "plt.ylabel('Average Population')\n",
    "plt.tight_layout()\n",
    "plt.savefig('plots_CA3a/1a.png', dpi=plt_dpi, bbox_inches='tight')\n",
    "plt.show()"
   ]
  },
  {
   "cell_type": "code",
   "execution_count": null,
   "metadata": {},
   "outputs": [],
   "source": [
    "# compute mean deaths between 2016 and 2020 - men\n",
    "deaths_men = deaths_men_1620.mean(axis=1).to_frame()\n",
    "deaths_men.columns = ['Men']\n",
    "\n",
    "# compute mean deaths between 2016 and 2020 - women\n",
    "deaths_women = deaths_women_1620.mean(axis=1).to_frame()\n",
    "deaths_women.columns = ['Women']\n",
    "\n",
    "# visualize\n",
    "ax1 = deaths_men.plot(figsize=(8, 5))\n",
    "deaths_women.plot(ax=ax1)\n",
    "\n",
    "plt.legend(frameon=1, facecolor='white', framealpha=1, title='Gender')\n",
    "plt.ylabel('Average Number of Deaths')\n",
    "plt.tight_layout()\n",
    "plt.savefig('plots_CA3a/1b.png', dpi=plt_dpi, bbox_inches='tight')\n",
    "plt.show()"
   ]
  },
  {
   "cell_type": "markdown",
   "metadata": {},
   "source": [
    "## 2. Mortality estimation"
   ]
  },
  {
   "cell_type": "markdown",
   "metadata": {},
   "source": [
    "a) Estimate the force of mortality for each gender."
   ]
  },
  {
   "cell_type": "code",
   "execution_count": null,
   "metadata": {},
   "outputs": [],
   "source": [
    "# estimate force of mortality - men\n",
    "force_mortality_men = deaths_men.div(mean_pop_men)\n",
    "force_mortality_men.columns = ['Men']\n",
    "\n",
    "# estimate force of mortality - women\n",
    "force_mortality_women = deaths_women.div(mean_pop_women)\n",
    "force_mortality_women.columns = ['Women']\n",
    "\n",
    "# visualize\n",
    "ax1 = force_mortality_men.plot(figsize=(8, 5))\n",
    "force_mortality_women.plot(ax=ax1)\n",
    "\n",
    "plt.legend(frameon=1, facecolor='white', framealpha=1, title='Gender')\n",
    "plt.ylabel('Force of Mortality')\n",
    "plt.tight_layout()\n",
    "plt.savefig('plots_CA3a/2a.png', dpi=plt_dpi, bbox_inches='tight')\n",
    "plt.show()"
   ]
  },
  {
   "cell_type": "markdown",
   "metadata": {},
   "source": [
    "b) Estimate the Makeham parameters."
   ]
  },
  {
   "cell_type": "code",
   "execution_count": null,
   "metadata": {},
   "outputs": [],
   "source": [
    "# the makeham function\n",
    "def makeham(params, x):\n",
    "    alpha, beta, gamma = params\n",
    "    return alpha + beta * np.exp(gamma * x)"
   ]
  },
  {
   "cell_type": "code",
   "execution_count": null,
   "metadata": {},
   "outputs": [],
   "source": [
    "def f1_fun(gamma, x):\n",
    "    return np.sum(np.exp(gamma * x))"
   ]
  },
  {
   "cell_type": "code",
   "execution_count": null,
   "metadata": {},
   "outputs": [],
   "source": [
    "def f2_fun(gamma, x):\n",
    "    return np.sum(np.exp(2 * gamma * x))"
   ]
  },
  {
   "cell_type": "code",
   "execution_count": null,
   "metadata": {},
   "outputs": [],
   "source": [
    "def g_fun(gamma, mu, x):\n",
    "    return np.sum(mu * np.exp(gamma * x))"
   ]
  },
  {
   "cell_type": "code",
   "execution_count": null,
   "metadata": {},
   "outputs": [],
   "source": [
    "# alpha expression\n",
    "def a_fun(gamma, mu, x):\n",
    "    m, N = np.sum(mu), x.shape[0]\n",
    "    f1, f2 = f1_fun(gamma, x), f2_fun(gamma, x)\n",
    "    g = g_fun(gamma, mu, x)\n",
    "    nom = m * f2 - g * f1\n",
    "    denom = N * f2 - np.square(f1)\n",
    "    return nom / denom"
   ]
  },
  {
   "cell_type": "code",
   "execution_count": null,
   "metadata": {},
   "outputs": [],
   "source": [
    "# beta expression\n",
    "def b_fun(gamma, mu, x):\n",
    "    m, N = np.sum(mu), x.shape[0]\n",
    "    f1, f2 = f1_fun(gamma, x), f2_fun(gamma, x)\n",
    "    g = g_fun(gamma, mu, x)\n",
    "\n",
    "    nom = m * f1 - N * g\n",
    "    denom = np.square(f1) - N * f2\n",
    "    \n",
    "    return nom / denom"
   ]
  },
  {
   "cell_type": "code",
   "execution_count": null,
   "metadata": {},
   "outputs": [],
   "source": [
    "# derivative of makeham least squares expression w.r.t. gamma - eq. 3\n",
    "def gamma_fun(gamma, mu, x):\n",
    "    a, b = a_fun(gamma, mu, x), b_fun(gamma, mu, x)\n",
    "    val = (a + b * np.exp(gamma * x) - mu) * x * b * np.exp(gamma * x)\n",
    "    return np.sum(val)"
   ]
  },
  {
   "cell_type": "code",
   "execution_count": null,
   "metadata": {},
   "outputs": [],
   "source": [
    "# derivative of makeham least squares expression w.r.t. alpha - eq. 1\n",
    "def ab_fun(params, mu, x, gamma):\n",
    "    a, b = params\n",
    "    return np.sum(a + b * np.exp(gamma * x) - mu)"
   ]
  },
  {
   "cell_type": "code",
   "execution_count": null,
   "metadata": {},
   "outputs": [],
   "source": [
    "def gamma_optimizer_nrm(mu, x):\n",
    "    init_gamma = .101314\n",
    "    gamma = newton(\n",
    "        func=gamma_fun,\n",
    "        x0=init_gamma,\n",
    "        args=(mu, x)\n",
    "    )\n",
    "    return gamma"
   ]
  },
  {
   "cell_type": "code",
   "execution_count": null,
   "metadata": {},
   "outputs": [],
   "source": [
    "def ab_optimizer_nrm(mu, x, gamma):\n",
    "    init_ab = (.001, .000012)\n",
    "    alpha, beta = newton(\n",
    "        func=ab_fun,\n",
    "        x0=init_ab,\n",
    "        args=(mu, x, gamma)\n",
    "    )\n",
    "    return alpha, beta"
   ]
  },
  {
   "cell_type": "code",
   "execution_count": null,
   "metadata": {},
   "outputs": [],
   "source": [
    "# optimizes alpha, beta given gamma\n",
    "def makeham_optimizer_alt(mu, x):\n",
    "    gamma = gamma_optimizer_nrm(mu, x)\n",
    "    alpha, beta = ab_optimizer_nrm(mu, x, gamma)\n",
    "    print('Makeham params (alpha, beta, gammma):')\n",
    "    print(alpha, beta, gamma)\n",
    "    return alpha, beta, gamma"
   ]
  },
  {
   "cell_type": "code",
   "execution_count": null,
   "metadata": {},
   "outputs": [],
   "source": [
    "# directly calculates alpha, beta given gamma\n",
    "def makeham_optimizer(mu, x):\n",
    "    gamma = gamma_optimizer_nrm(mu, x)\n",
    "    alpha, beta = a_fun(gamma, mu, x), b_fun(gamma, mu, x)\n",
    "    print('Makeham params (alpha, beta, gammma):')\n",
    "    print(alpha, beta, gamma)\n",
    "    return alpha, beta, gamma"
   ]
  },
  {
   "cell_type": "code",
   "execution_count": null,
   "metadata": {},
   "outputs": [],
   "source": [
    "print('MEN')\n",
    "# estimate makeham parameters for men\n",
    "n = 90\n",
    "x_men = np.arange(20, n + 1)\n",
    "mu_men = force_mortality_men.loc[:n].values.flatten()\n",
    "a_men, b_men, g_men = makeham_optimizer(mu_men, x_men)\n",
    "makeham_params_men = (a_men, b_men, g_men)"
   ]
  },
  {
   "cell_type": "code",
   "execution_count": null,
   "metadata": {},
   "outputs": [],
   "source": [
    "print('WOMEN')\n",
    "# estimate makeham parameters for women\n",
    "n = 90\n",
    "x_women = np.arange(20, n + 1)\n",
    "mu_women = force_mortality_women.loc[:n].values.flatten()\n",
    "a_women, b_women, g_women = makeham_optimizer(mu_women, x_women)\n",
    "makeham_params_women = (a_women, b_women, g_women)"
   ]
  },
  {
   "cell_type": "code",
   "execution_count": null,
   "metadata": {},
   "outputs": [],
   "source": [
    "# create dict of makeham params\n",
    "makeham_params_dict = {\n",
    "    'men': makeham_params_men,\n",
    "    'women': makeham_params_women\n",
    "}"
   ]
  },
  {
   "cell_type": "code",
   "execution_count": null,
   "metadata": {},
   "outputs": [],
   "source": [
    "# convert makeham params to df\n",
    "makeham_params = pd.DataFrame(\n",
    "    {\n",
    "        'alpha': [a_men, a_women],\n",
    "        'beta': [b_men, b_women],\n",
    "        'gamma': [g_men, g_women]\n",
    "    }, \n",
    "    index=['Men', 'Women']\n",
    ")\n",
    "\n",
    "# visualize makeham params\n",
    "makeham_params"
   ]
  },
  {
   "cell_type": "code",
   "execution_count": null,
   "metadata": {},
   "outputs": [],
   "source": [
    "# for report use - 2b)\n",
    "cap = 'The Makeham parameters for each gender.'\n",
    "print(makeham_params.to_latex(position='H', caption=cap, label='tab:2b_makeham_params'))"
   ]
  },
  {
   "cell_type": "code",
   "execution_count": null,
   "metadata": {},
   "outputs": [],
   "source": [
    "# visualize Makeham functions along with the force of mortalities, for both genders\n",
    "n = 99\n",
    "x = np.arange(20, n + 1)\n",
    "makeham_men = makeham(makeham_params_men, x)\n",
    "makeham_women = makeham(makeham_params_women, x)\n",
    "makeham_vis = pd.DataFrame(\n",
    "    {\n",
    "        'Age': x,\n",
    "        'Force of mortality (Men)': force_mortality_men.values.flatten(),\n",
    "        'Force of mortality (Women)': force_mortality_women.values.flatten(), \n",
    "        'Makeham function (Men)': makeham_men,\n",
    "        'Makeham function (Women)': makeham_women\n",
    "    },\n",
    "    index=x\n",
    ")\n",
    "makeham_plt = makeham_vis.set_index('Age')\n",
    "makeham_plt.plot(figsize=(8, 5))\n",
    "\n",
    "plt.legend(frameon=1, facecolor='white', framealpha=1, title='Category')\n",
    "plt.ylabel('Force of Mortality (Makeham Estimate)')\n",
    "plt.tight_layout()\n",
    "plt.savefig('plots_CA3a/2b.png', dpi=plt_dpi, bbox_inches='tight')\n",
    "plt.show()"
   ]
  },
  {
   "cell_type": "markdown",
   "metadata": {},
   "source": [
    "c) Plot survival functions for both genders between for ages 0 to 105."
   ]
  },
  {
   "cell_type": "code",
   "execution_count": null,
   "metadata": {},
   "outputs": [],
   "source": [
    "# survival function with makeham estimate\n",
    "def survival(x, a, b, g):\n",
    "    val = -a * x - (b / g) * (np.exp(g * x) - 1)\n",
    "    return np.exp(val)"
   ]
  },
  {
   "cell_type": "code",
   "execution_count": null,
   "metadata": {},
   "outputs": [],
   "source": [
    "# survival function visualization for both genders\n",
    "n = 105\n",
    "x = np.arange(n + 1)\n",
    "survival_men = survival(x, a_men, b_men, g_men)\n",
    "survival_women = survival(x, a_women, b_women, g_women)\n",
    "survival_df = pd.DataFrame({\"Age\": x, \"Men\": survival_men, \"Women\": survival_women})\n",
    "survival_plt = survival_df.set_index(\"Age\")\n",
    "survival_plt.plot(figsize=(8, 5))\n",
    "\n",
    "plt.legend(frameon=1, facecolor=\"white\", framealpha=1, title=\"Gender\")\n",
    "plt.ylabel(\"Survival Function Value\")\n",
    "plt.tight_layout()\n",
    "plt.savefig(\"plots_CA3a/2c.png\", dpi=plt_dpi, bbox_inches=\"tight\")\n",
    "plt.show()"
   ]
  },
  {
   "cell_type": "markdown",
   "metadata": {},
   "source": [
    "d) Calculate lifetime expectancy based on the Makeham distribution."
   ]
  },
  {
   "cell_type": "code",
   "execution_count": null,
   "metadata": {},
   "outputs": [],
   "source": [
    "# compute the lifetime expectancy for each gender - numerical integration\n",
    "life_exp_men = quad(survival, 0, np.inf, args=makeham_params_men)[0]\n",
    "life_exp_women = quad(survival, 0, np.inf, args=makeham_params_women)[0]"
   ]
  },
  {
   "cell_type": "code",
   "execution_count": null,
   "metadata": {},
   "outputs": [],
   "source": [
    "# visualize lifetime expectancy\n",
    "life_exp_df = pd.DataFrame(\n",
    "    {\n",
    "        'Men': life_exp_men,\n",
    "        'Women': life_exp_women\n",
    "    },\n",
    "    index=['Life Expectancy']\n",
    ").T\n",
    "life_exp_df"
   ]
  },
  {
   "cell_type": "code",
   "execution_count": null,
   "metadata": {},
   "outputs": [],
   "source": [
    "# for report use - 2d)\n",
    "cap = 'The lifetime expectancy, in years, based on the lifetime \\\n",
    "     distribution given by the Makeham function, for each gender.'\n",
    "print(life_exp_df.round(3).to_latex(position='H', caption=cap, label='tab:2c_life_exp'))"
   ]
  },
  {
   "cell_type": "markdown",
   "metadata": {},
   "source": [
    "## 3. The state model"
   ]
  },
  {
   "cell_type": "code",
   "execution_count": null,
   "metadata": {},
   "outputs": [],
   "source": [
    "# compute probabilty for death, q, in month t\n",
    "def get_q(t, x, makeham_params):\n",
    "    a, b, g = makeham_params\n",
    "    l1 = survival(x + t / 12, a, b, g)\n",
    "    l2 = survival(x + (t - 1) / 12, a, b, g)\n",
    "    return 1 - l1 / l2"
   ]
  },
  {
   "cell_type": "code",
   "execution_count": null,
   "metadata": {},
   "outputs": [],
   "source": [
    "# retirement indicator function\n",
    "def get_t_pp_po(t, x, retirement):\n",
    "    return (x + t / 12) == retirement + 1 / 12"
   ]
  },
  {
   "cell_type": "code",
   "execution_count": null,
   "metadata": {},
   "outputs": [],
   "source": [
    "# compute transition probabilities\n",
    "def get_transitions(pop, t, x, makeham_params, s_m, retirement):\n",
    "    q_t = get_q(t, x, makeham_params)\n",
    "    t_pp_de = pop[t - 1, 0] * q_t\n",
    "    t_po_de = pop[t - 1, 1] * q_t\n",
    "    t_pp_tr = (pop[t - 1, 0] - t_pp_de) * s_m\n",
    "    t_pp_po = (pop[t - 1, 0] - t_pp_de - t_pp_tr) * get_t_pp_po(t, x, retirement)\n",
    "    return t_pp_de, t_po_de, t_pp_tr, t_pp_po"
   ]
  },
  {
   "cell_type": "code",
   "execution_count": null,
   "metadata": {},
   "outputs": [],
   "source": [
    "def pop_projection(init_state, T, init_age, makeham_params, transfer_prob):\n",
    "    pop = np.zeros((T + 1, 4))\n",
    "    retirement = 65\n",
    "    if init_state == 'pp':\n",
    "        pop[0, 0] = 1\n",
    "    elif init_state == 'po':\n",
    "        pop[0, 1] = 1\n",
    "    else:\n",
    "        return print('Incorrect initial state')\n",
    "\n",
    "    for t in np.arange(1, T + 1):\n",
    "        t_pp_de, t_po_de, t_pp_tr, t_pp_po = get_transitions(\n",
    "            pop, t, init_age, makeham_params, transfer_prob, retirement\n",
    "        )\n",
    "        pop[t, 0] = pop[t - 1, 0] - t_pp_de - t_pp_tr - t_pp_po # PP\n",
    "        pop[t, 1] = pop[t - 1, 1] - t_po_de + t_pp_po # PO\n",
    "        pop[t, 2] = pop[t - 1, 2] + t_pp_de + t_po_de # DE\n",
    "        pop[t, 3] = pop[t - 1, 3] + t_pp_tr # TR\n",
    "    return pop"
   ]
  },
  {
   "cell_type": "code",
   "execution_count": null,
   "metadata": {},
   "outputs": [],
   "source": [
    "# intial params\n",
    "T = 30 * 12 # months of simulation\n",
    "retirement = 65 # retirement age\n",
    "init_age = 60 # initial age of policyholder\n",
    "m = 12\n",
    "transfer_prob_yearly = 0.02 # yearly transfer rate\n",
    "transfer_prob = 1 - np.power(1 - transfer_prob_yearly, 1 / m) # monthly transfer rate\n",
    "init_state = 'pp'\n",
    "gender = 'women'"
   ]
  },
  {
   "cell_type": "code",
   "execution_count": null,
   "metadata": {},
   "outputs": [],
   "source": [
    "# compute population projection for T months ahead\n",
    "pop_sim = pop_projection(\n",
    "    init_state=init_state, \n",
    "    T=T,\n",
    "    init_age=init_age,\n",
    "    makeham_params=makeham_params_dict[gender], \n",
    "    transfer_prob=transfer_prob\n",
    ")"
   ]
  },
  {
   "cell_type": "code",
   "execution_count": null,
   "metadata": {},
   "outputs": [],
   "source": [
    "# convert to dataframe\n",
    "pop_df = pd.DataFrame(\n",
    "    {\n",
    "        'Simulated Age': 60 + np.arange(T + 1) / 12,\n",
    "        'PP': pop_sim[:, 0],\n",
    "        'PO': pop_sim[:, 1],\n",
    "        'DE': pop_sim[:, 2],\n",
    "        'TR': pop_sim[:, 3]\n",
    "    }\n",
    ").set_index('Simulated Age')\n",
    "pop_df"
   ]
  },
  {
   "cell_type": "code",
   "execution_count": null,
   "metadata": {},
   "outputs": [],
   "source": [
    "# visualize population projection\n",
    "pop_df.plot.area(stacked=True, figsize=(8, 5), alpha=.75, lw=0)\n",
    "\n",
    "plt.ylabel('Proportion')\n",
    "plt.legend(frameon=1, facecolor='white', framealpha=1, title='State')\n",
    "plt.tight_layout()\n",
    "plt.savefig('plots_CA3a/3.png', dpi=plt_dpi, bbox_inches='tight')\n",
    "plt.show()"
   ]
  },
  {
   "cell_type": "markdown",
   "metadata": {},
   "source": [
    "## 4. 1st order payout and reserve"
   ]
  },
  {
   "cell_type": "markdown",
   "metadata": {},
   "source": [
    "### 4a) Calculate b"
   ]
  },
  {
   "cell_type": "code",
   "execution_count": null,
   "metadata": {},
   "outputs": [],
   "source": [
    "def PV(params, makeham_params, flag='premium'):\n",
    "    x, u, s, d_G = params\n",
    "    a, b, g = makeham_params\n",
    "    l_x = survival(x, a, b, g)\n",
    "    if flag == 'premium':\n",
    "        t = np.arange(1, 12 * u + 1)\n",
    "        l_xt = survival(x + t / 12, a, b, g)\n",
    "        r_intensity = np.exp(-d_G * t / 12)\n",
    "        return np.sum((l_xt / l_x) * r_intensity)\n",
    "\n",
    "    elif flag == 'payout':\n",
    "        t = np.arange(12 * u + 1, 12 * (u + s) + 1)\n",
    "        l_xt = survival(x + t / 12, a, b, g)\n",
    "        r_intensity = np.exp(-d_G * t / 12)\n",
    "        return np.sum((l_xt / l_x) * r_intensity)"
   ]
  },
  {
   "cell_type": "code",
   "execution_count": null,
   "metadata": {},
   "outputs": [],
   "source": [
    "# initial params\n",
    "G0 = 2000000 # 1st order reserve\n",
    "P0 = 120000 # initial monthly premium"
   ]
  },
  {
   "cell_type": "code",
   "execution_count": null,
   "metadata": {},
   "outputs": [],
   "source": [
    "# policyholder parameters\n",
    "x = 60\n",
    "z = 65\n",
    "s = 120 - z\n",
    "u = z - x\n",
    "r_G = .02\n",
    "d_G = np.log(1 + r_G)\n",
    "params = x, u, s, d_G"
   ]
  },
  {
   "cell_type": "code",
   "execution_count": null,
   "metadata": {},
   "outputs": [],
   "source": [
    "# compute b value\n",
    "sum_PP = P0 * PV(params, makeham_params_women, flag='premium')\n",
    "sum_PO = PV(params, makeham_params_women, flag='payout')\n",
    "b = (12 * G0 + sum_PP) / sum_PO\n",
    "print('Yearly payout amount (b): {:.2f}'.format(b))"
   ]
  },
  {
   "cell_type": "markdown",
   "metadata": {},
   "source": [
    "### 4b) Plot the evolution of the reserve 30 years into the future."
   ]
  },
  {
   "cell_type": "code",
   "execution_count": null,
   "metadata": {},
   "outputs": [],
   "source": [
    "def get_risk_premium(risk_sum, t, init_age, makeham_params):\n",
    "    q = get_q(t, init_age, makeham_params)\n",
    "    return (q / (1 - q)) * risk_sum"
   ]
  },
  {
   "cell_type": "code",
   "execution_count": null,
   "metadata": {},
   "outputs": [],
   "source": [
    "def get_G(params, makeham_params, horizon=30):\n",
    "    G0, P0, b, d_G, z, x = params\n",
    "    T = horizon * 12\n",
    "    G, P, B = np.zeros(T + 1), np.zeros(T + 1), np.zeros(T + 1)\n",
    "    retirement_idx = (z - x) * 12 + 1\n",
    "    P[:retirement_idx] = P0 / 12\n",
    "    B[retirement_idx:] = b / 12\n",
    "    G[0] = G0\n",
    "    for t in np.arange(1, T + 1):\n",
    "        risk_premium = get_risk_premium(-G[t - 1], t, x, makeham_params)\n",
    "        G[t] = G[t - 1] * np.exp(d_G / 12)  + P[t] - B[t] - risk_premium\n",
    "    return G"
   ]
  },
  {
   "cell_type": "code",
   "execution_count": null,
   "metadata": {},
   "outputs": [],
   "source": [
    "# compute and visualize the 1st order reserve for 30 simulated years\n",
    "params = G0, P0, b, d_G, z, x\n",
    "G_30 = get_G(params, makeham_params_women, horizon=30)\n",
    "# first_order = pd.DataFrame((pop_df['PP'] + pop_df['PO']) * G_30)\n",
    "pop_df['1st Order Reserve'] = G_30\n",
    "first_order = pop_df['1st Order Reserve']\n",
    "# first_order.columns = ['1st Order Reserve']\n",
    "first_order.plot(figsize=(8, 5), color='green', lw=2)\n",
    "plt.legend(frameon=1, facecolor='white', framealpha=1)\n",
    "plt.ylabel('1st Order Reserve')\n",
    "plt.tight_layout()\n",
    "plt.savefig('plots_CA3a/4b.png', dpi=plt_dpi, bbox_inches='tight')\n",
    "plt.show()"
   ]
  },
  {
   "cell_type": "markdown",
   "metadata": {},
   "source": [
    "### 4c) Include a table with the value of the reserve for every 10 years."
   ]
  },
  {
   "cell_type": "code",
   "execution_count": null,
   "metadata": {},
   "outputs": [],
   "source": [
    "reserve_10 = pd.DataFrame(first_order[(first_order.index % 10) == 0])\n",
    "reserve_10"
   ]
  },
  {
   "cell_type": "code",
   "execution_count": null,
   "metadata": {},
   "outputs": [],
   "source": [
    "# for report use - 4c)\n",
    "cap = 'The first order reserve every 10th year during the simulation period.'\n",
    "print(reserve_10.loc[70:].to_latex(position='H', caption=cap, label='tab:4c_reserves'))"
   ]
  },
  {
   "cell_type": "markdown",
   "metadata": {},
   "source": [
    "# Computer Assignment 3b\n",
    "## ALM analysis"
   ]
  },
  {
   "cell_type": "markdown",
   "metadata": {},
   "source": [
    "### 5. Build ALM model"
   ]
  },
  {
   "cell_type": "code",
   "execution_count": 3,
   "metadata": {},
   "outputs": [],
   "source": [
    "@njit\n",
    "def get_risk_premium(risk_sum, t, init_age, makeham_params):\n",
    "    q = get_q(t, init_age, makeham_params)\n",
    "    return (q / (1 - q)) * risk_sum"
   ]
  },
  {
   "cell_type": "code",
   "execution_count": 4,
   "metadata": {},
   "outputs": [],
   "source": [
    "# retirement indicator function\n",
    "@njit\n",
    "def get_t_pp_po(t, x, retirement):\n",
    "    return (x + t / 12) == retirement + 1 / 12"
   ]
  },
  {
   "cell_type": "code",
   "execution_count": 5,
   "metadata": {},
   "outputs": [],
   "source": [
    "# compute probabilty for death, q, in month t\n",
    "@njit\n",
    "def get_q(t, x, makeham_params):\n",
    "    a, b, g = makeham_params\n",
    "    l1 = survival(x + t / 12, a, b, g)\n",
    "    l2 = survival(x + (t - 1) / 12, a, b, g)\n",
    "    return 1 - l1 / l2"
   ]
  },
  {
   "cell_type": "code",
   "execution_count": 6,
   "metadata": {},
   "outputs": [],
   "source": [
    "# survival function with makeham estimate\n",
    "@njit\n",
    "def survival(x, a, b, g):\n",
    "    val = -a * x - (b / g) * (np.exp(g * x) - 1)\n",
    "    return np.exp(val)"
   ]
  },
  {
   "cell_type": "code",
   "execution_count": 7,
   "metadata": {},
   "outputs": [],
   "source": [
    "# compute transition probabilities\n",
    "@njit\n",
    "def get_transitions(pop, t, x, makeham_params, s_m, retirement):\n",
    "    q_t = get_q(t, x, makeham_params)\n",
    "    t_pp_de = pop[t - 1, 0] * q_t\n",
    "    t_po_de = pop[t - 1, 1] * q_t\n",
    "    t_pp_tr = (pop[t - 1, 0] - t_pp_de) * s_m\n",
    "    t_pp_po = (pop[t - 1, 0] - t_pp_de - t_pp_tr) * get_t_pp_po(t, x, retirement)\n",
    "    return t_pp_de, t_po_de, t_pp_tr, t_pp_po"
   ]
  },
  {
   "cell_type": "code",
   "execution_count": 8,
   "metadata": {},
   "outputs": [],
   "source": [
    "@njit\n",
    "def get_next_P1(P2, v):\n",
    "    return P2 * v"
   ]
  },
  {
   "cell_type": "code",
   "execution_count": 9,
   "metadata": {},
   "outputs": [],
   "source": [
    "@njit\n",
    "def get_next_P2(P1, net_cf):\n",
    "    return P1 - net_cf * P1 / np.sum(P1)"
   ]
  },
  {
   "cell_type": "code",
   "execution_count": 10,
   "metadata": {},
   "outputs": [],
   "source": [
    "@njit\n",
    "def get_portfolio_return(P1, P2):\n",
    "    return np.sum(P1) / np.sum(P2)"
   ]
  },
  {
   "cell_type": "code",
   "execution_count": 11,
   "metadata": {},
   "outputs": [],
   "source": [
    "# compute probabilty for death, q, in month t\n",
    "@njit\n",
    "def get_survival(t, x, makeham_params):\n",
    "    a, b, g = makeham_params\n",
    "    l1 = survival((x + t) / 12, a, b, g)\n",
    "    l2 = survival(x / 12, a, b, g)\n",
    "    return l1 / l2"
   ]
  },
  {
   "cell_type": "code",
   "execution_count": 12,
   "metadata": {},
   "outputs": [],
   "source": [
    "# compute monthly payout given retirement\n",
    "@njit\n",
    "def get_B(params, makeham_params):\n",
    "    po_lim, init_age, V, t_m, d_p, b_G = params\n",
    "    current_age = init_age * 12 + t_m\n",
    "    s = po_lim * 12 - current_age\n",
    "    t = np.arange(0, s + 1 / 12)\n",
    "    df = np.exp(-d_p * t / 12)\n",
    "    l = get_survival(t, current_age, makeham_params)\n",
    "    B = V / np.dot(df, l)\n",
    "    res = np.max(np.array([B, b_G]))\n",
    "    return res"
   ]
  },
  {
   "cell_type": "code",
   "execution_count": 13,
   "metadata": {},
   "outputs": [],
   "source": [
    "# NS helper functions\n",
    "@njit\n",
    "def f2(lbd, t):\n",
    "    return (1 - np.exp(-lbd * t)) / (lbd * t)\n",
    "\n",
    "@njit\n",
    "def f3(lbd, t):\n",
    "    return f2(lbd, t) - np.exp(-lbd * t)"
   ]
  },
  {
   "cell_type": "code",
   "execution_count": 14,
   "metadata": {},
   "outputs": [],
   "source": [
    "# estimate NS parameters\n",
    "@njit\n",
    "def get_r(beta, lbd, t):\n",
    "    b1, b2, b3 = beta\n",
    "    return b1 + b2 * f2(lbd, t) + b3 * f3(lbd, t)"
   ]
  },
  {
   "cell_type": "code",
   "execution_count": 15,
   "metadata": {},
   "outputs": [],
   "source": [
    "@njit\n",
    "def discount_BE(BE, beta, lbd):\n",
    "    t = np.arange(1, BE.shape[0] + 1)\n",
    "    r = get_r(beta, lbd, t)\n",
    "    r[r < -.1] = -.1 # lower bound for interest rate\n",
    "    d_p = np.log(1 + r)\n",
    "    df = np.exp(-d_p * t / 12)\n",
    "    BE_discounted = np.dot(BE, df)\n",
    "    duration = np.sum(t * BE * df) / BE_discounted\n",
    "    return BE_discounted, duration / 12."
   ]
  },
  {
   "cell_type": "code",
   "execution_count": 16,
   "metadata": {},
   "outputs": [],
   "source": [
    "# compute Best Estimate - undiscounted\n",
    "@njit\n",
    "def get_BE(t, pop, params, makeham_params):\n",
    "    init_age, transfer_prob, retirement, G, P, b_G = params\n",
    "    _, _, t_pp_tr, _ = get_transitions(\n",
    "        pop, t, init_age, makeham_params, transfer_prob, retirement\n",
    "    )\n",
    "    if t <= (retirement - init_age) * 12:\n",
    "        return t_pp_tr * G - pop[t, 0] * P / 12\n",
    "    else:\n",
    "        return pop[t, 1] * b_G + t_pp_tr * G"
   ]
  },
  {
   "cell_type": "code",
   "execution_count": 17,
   "metadata": {},
   "outputs": [],
   "source": [
    "@njit\n",
    "def get_net_cf(t, pop, params, makeham_params):\n",
    "    init_age, transfer_prob, retirement, V, G, P, po_lim, d_p, b_G = params\n",
    "    _, _, t_pp_tr, _ = get_transitions(\n",
    "            pop, t, init_age, makeham_params, transfer_prob, retirement\n",
    "        )\n",
    "    if t <= (retirement - init_age) * 12:\n",
    "        # before retirment - premium paying\n",
    "        return t_pp_tr * np.amax(np.array([G, V])) - pop[t, 0] * P / 12\n",
    "    else:\n",
    "        # after retirement - payout\n",
    "        B_params = po_lim, init_age, V, t, d_p, b_G\n",
    "        B = get_B(B_params, makeham_params)\n",
    "        return pop[t, 1] * B + t_pp_tr * np.max(np.array([G, V]))"
   ]
  },
  {
   "cell_type": "code",
   "execution_count": 18,
   "metadata": {},
   "outputs": [],
   "source": [
    "@njit\n",
    "def get_V(t, params, makeham_params):\n",
    "    init_age, retirement, V, P, P1, P2, po_lim, d_p, b_G = params\n",
    "    risk_premium = get_risk_premium(-V, t, init_age, makeham_params)\n",
    "    portfolio_return = get_portfolio_return(P1, P2)\n",
    "    if t <= (retirement - init_age) * 12:\n",
    "        # before retirement\n",
    "        return P / 12 - risk_premium + V * portfolio_return\n",
    "    else:\n",
    "        # after retirement\n",
    "        B_params = po_lim, init_age, V, t, d_p, b_G\n",
    "        B = get_B(B_params, makeham_params)\n",
    "        return V * portfolio_return - risk_premium - B"
   ]
  },
  {
   "cell_type": "code",
   "execution_count": 19,
   "metadata": {},
   "outputs": [],
   "source": [
    "@njit\n",
    "def get_assets(data, strategy):\n",
    "    if strategy == 'BH(100/0)':\n",
    "        # stocks only\n",
    "        assets = data[:, :10]\n",
    "        return assets\n",
    "    elif strategy == 'BH(0/100)':\n",
    "        # Y15 only\n",
    "        assets = data[:, 12].copy()\n",
    "        dim = assets.shape[0]\n",
    "        return assets.reshape((dim, 1))\n",
    "    elif strategy == 'BH(50/50)':\n",
    "        # stocks and Y5\n",
    "        assets = data[:, :11]\n",
    "        return assets\n",
    "    elif strategy == 'CM(50/50)-1':\n",
    "        # stocks and Y5\n",
    "        assets = data[:, :11]\n",
    "        return assets\n",
    "    elif strategy == 'CM(50/50)-2':\n",
    "        # stocks, Y10 and Y20\n",
    "        idx = np.append(np.arange(10), [11, 13])\n",
    "        assets = data[:, idx]\n",
    "        return assets\n",
    "    elif strategy == 'CPPI(2)':\n",
    "        # stocks, Y10 and Y20\n",
    "        idx = np.append(np.arange(10), [11, 13])\n",
    "        assets = data[:, idx]\n",
    "        return assets\n",
    "    elif strategy == 'CPPI(2)-DD':\n",
    "        # stocks, Y5 and Y20\n",
    "        idx = np.append(np.arange(10), [10, 13])\n",
    "        assets = data[:, idx]\n",
    "        return assets\n",
    "    elif strategy == 'CM(50/50)-LS':\n",
    "        # long straddle in MSFT\n",
    "        # stocks, Y05 and calls/puts\n",
    "        assets = data[:, :11]\n",
    "        return assets\n",
    "    elif strategy == 'CPPI(2)-DD-LS':\n",
    "        # stocks, Y5 and Y20 + LONG STRADDLE\n",
    "        idx = np.append(np.arange(10), [10, 13])\n",
    "        assets = data[:, idx]\n",
    "        return assets"
   ]
  },
  {
   "cell_type": "code",
   "execution_count": 20,
   "metadata": {},
   "outputs": [],
   "source": [
    "@njit\n",
    "def get_init_P2(V0, strategy, D, BE_0, d0):\n",
    "    if strategy == 'BH(100/0)':\n",
    "        P2 = np.ones(10) * (V0 / 10.)\n",
    "        return P2\n",
    "    elif strategy == 'BH(0/100)':\n",
    "        P2 = np.array([V0])\n",
    "        return P2\n",
    "    elif strategy == 'BH(50/50)':\n",
    "        P2 = np.ones(11) * (V0 / 20.)\n",
    "        P2[-1] = (V0 / 2.)\n",
    "        return P2\n",
    "    elif strategy == 'CM(50/50)-1':\n",
    "        P2 = np.ones(11) * (V0 / 20.)\n",
    "        P2[-1] = (V0 / 2.)\n",
    "        return P2\n",
    "    elif strategy == 'CM(50/50)-2':\n",
    "        P2 = np.ones(12) * (V0 / 20.)\n",
    "        M1, M2 = 10., 20. # maturities\n",
    "        p = (D - M2) / (M1 - M2) # constant duration\n",
    "        P2[-2] = (V0 / 2.) * p # Y10\n",
    "        P2[-1] = (V0 / 2.) * (1 - p) # Y20\n",
    "        return P2\n",
    "    elif strategy == 'CPPI(2)':\n",
    "        m = 2\n",
    "        C0 = V0 - BE_0\n",
    "        P2 = np.ones(12) * (m * C0 / 10.)\n",
    "        M1, M2 = 10., 20. # maturities\n",
    "        p = (D - M2) / (M1 - M2) # constant duration\n",
    "        BE_c = BE_0 - C0 # cushion adjusted\n",
    "        P2[-2] = BE_c * p # Y10\n",
    "        P2[-1] = BE_c * (1 - p) # Y20\n",
    "        return P2\n",
    "    elif strategy == 'CPPI(2)-DD':\n",
    "        m = 2\n",
    "        C0 = m * (V0 - BE_0)\n",
    "        P2 = np.ones(12) * (C0 / 10.)\n",
    "        M1, M2 = 5.0, 20.0 # maturities\n",
    "        p = (d0 - M2) / (M1 - M2) # constant duration\n",
    "        BE_c = V0 - C0 # cushion adjusted\n",
    "        P2[-2] = BE_c * p # Y5\n",
    "        P2[-1] = BE_c * (1 - p) # Y20\n",
    "        return P2\n",
    "    elif strategy == 'CM(50/50)-LS':\n",
    "        V = V0 * .98 # allocate 2% on puts/calls\n",
    "        P2 = np.ones(11) * (V / 20.)\n",
    "        P2[-1] = V / 2.\n",
    "        return P2\n",
    "    elif strategy == 'CPPI(2)-DD-LS':\n",
    "        # stocks, Y5 and Y20 + LONG STRADDLE\n",
    "        m = 2\n",
    "        V0 = V0 * .98 # allocate 2% on puts/calls\n",
    "        C0 = m * (V0 - BE_0)\n",
    "        P2 = np.ones(12) * (C0 / 10.)\n",
    "        M1, M2 = 5.0, 20.0 # maturities\n",
    "        p = (d0 - M2) / (M1 - M2) # constant duration\n",
    "        BE_c = V0 - C0 # cushion adjusted\n",
    "        P2[-2] = BE_c * p # Y5\n",
    "        P2[-1] = BE_c * (1 - p) # Y20\n",
    "        return P2"
   ]
  },
  {
   "cell_type": "code",
   "execution_count": 21,
   "metadata": {},
   "outputs": [],
   "source": [
    "@njit\n",
    "def rebalance_portfolio(strategy, D, BE_i, d_i, V):\n",
    "    if strategy == 'CM(50/50)-1':\n",
    "        P2 = np.ones(11) * (V / 20.0)\n",
    "        P2[-1] = V / 2.0\n",
    "        return P2\n",
    "    elif strategy == 'CM(50/50)-2':\n",
    "        P2 = np.ones(12) * (V / 20.0)\n",
    "        M1, M2 = 10.0, 20.0  # maturities\n",
    "        p = (D - M2) / (M1 - M2)  # constant duration\n",
    "        P2[-2] = (V / 2.0) * p  # Y10\n",
    "        P2[-1] = (V / 2.0) * (1 - p)  # Y20\n",
    "        return P2\n",
    "    elif strategy == 'CPPI(2)':\n",
    "        m = 2\n",
    "        C = m * (V - BE_i)\n",
    "        P2 = np.ones(12) * (C / 10.0)\n",
    "        M1, M2 = 10.0, 20.0  # maturities\n",
    "        p = (D - M2) / (M1 - M2)  # constant duration\n",
    "        BE_c = V - C\n",
    "        P2[-2] = BE_c * p  # Y10\n",
    "        P2[-1] = BE_c * (1 - p)  # Y20\n",
    "        return P2\n",
    "    elif strategy == 'CPPI(2)-DD':\n",
    "        m = 2\n",
    "        C = m * (V - BE_i)\n",
    "        P2 = np.ones(12) * (C / 10.0)\n",
    "        M1, M2 = 5.0, 20.0  # maturities\n",
    "        p = (d_i - M2) / (M1 - M2)  # constant duration\n",
    "        BE_c = V - C  # cushion adjusted\n",
    "        P2[-2] = BE_c * p  # Y5\n",
    "        P2[-1] = BE_c * (1 - p)  # Y20\n",
    "        return P2\n",
    "    # option strategies\n",
    "    elif strategy == 'CM(50/50)-LS':\n",
    "        # option\n",
    "        P2 = np.ones(11) * (V / 20.0)\n",
    "        P2[-1] = (V / 2.0)\n",
    "        return P2\n",
    "    elif strategy == 'CPPI(2)-DD-LS':\n",
    "        # stocks, Y5 and Y20 + LONG STRADDLE\n",
    "        m = 2\n",
    "        C = m * (V - BE_i)\n",
    "        P2 = np.ones(12) * (C / 10.0)\n",
    "        M1, M2 = 5.0, 20.0  # maturities\n",
    "        p = (d_i - M2) / (M1 - M2)  # constant duration\n",
    "        BE_c = V - C  # cushion adjusted\n",
    "        P2[-2] = BE_c * p  # Y5\n",
    "        P2[-1] = BE_c * (1 - p)  # Y20\n",
    "        return P2"
   ]
  },
  {
   "cell_type": "code",
   "execution_count": 22,
   "metadata": {},
   "outputs": [],
   "source": [
    "@njit\n",
    "def get_duration_constant(BE, d_p):\n",
    "    # based on constant interest rate - 2%\n",
    "    t = np.arange(1, BE.shape[0] + 1)\n",
    "    df = np.exp(-d_p * t / 12.)\n",
    "    BE_constant_discount = np.dot(BE, df)\n",
    "    duration_constant = np.sum(t * BE * df) / BE_constant_discount\n",
    "    return duration_constant / 12."
   ]
  },
  {
   "cell_type": "code",
   "execution_count": 23,
   "metadata": {},
   "outputs": [],
   "source": [
    "# P variant\n",
    "@njit\n",
    "def sim_ALM_gen(data, NS, pop, params, makeham_params, strategy, option_data, T=360):\n",
    "    init_age, transfer_prob, retirement, V0, P, po_lim, d_p, b_G, lbd_NS = params\n",
    "    G = pop[:, -1] # 1st order reserve\n",
    " \n",
    "    # compute BE\n",
    "    T_BE = ((120 - init_age) * 12) + 1\n",
    "    BE = np.zeros(T_BE)\n",
    "    for i in np.arange(1, T_BE + 1):\n",
    "        BE_params = init_age, transfer_prob, retirement, G[i - 1], P, b_G\n",
    "        BE[i - 1] = get_BE(i, pop, BE_params, makeham_params)\n",
    "\n",
    "    # discount BE and compute duration simultaneously\n",
    "    BE_discounted = np.zeros(T + 1)\n",
    "    duration = np.zeros(T + 1)\n",
    "    constant_duration = np.zeros(T + 1)\n",
    "    for i in np.arange(T + 1):\n",
    "        BE_i = BE[i:]\n",
    "        BE_discounted[i], duration[i] = discount_BE(\n",
    "            BE_i, NS[i], lbd_NS\n",
    "        )  # varying interest rate - NS\n",
    "        constant_duration[i] = get_duration_constant(\n",
    "            BE_i, d_p\n",
    "        )  # constant interest rate - 2%\n",
    "\n",
    "    if strategy == 'CPPI(2)':\n",
    "        D = np.mean(constant_duration)\n",
    "    else:\n",
    "        D = np.mean(duration)\n",
    "\n",
    "    # init params\n",
    "    assets = get_assets(data, strategy)\n",
    "    P2 = get_init_P2(V0, strategy, D, BE_discounted[0], duration[0])\n",
    "    v_mat = assets[1:] / assets[:-1]\n",
    "    V = np.zeros(T + 1)\n",
    "    V[0] = V0\n",
    "\n",
    "\n",
    "    # option strategy params\n",
    "    V_options = V0 * .02\n",
    "    maturity_counter = 0\n",
    "    option_proportion = .02\n",
    "    portfolio = np.zeros(T + 1)\n",
    "    portfolio[0] = V0\n",
    "    V_payoff = np.zeros(T + 1)\n",
    "\n",
    "    # simulate strategy\n",
    "    for t in np.arange(1, T + 1):\n",
    "        v = v_mat[t - 1]  # v(t) / v(t-1)\n",
    "        P1 = get_next_P1(P2, v)\n",
    "\n",
    "        # compute V - 2nd order reserve\n",
    "        V_params = init_age, retirement, V[t - 1], P, P1, P2, po_lim, d_p, b_G\n",
    "        V[t] = get_V(t, V_params, makeham_params)\n",
    "\n",
    "        # compute net cash flow\n",
    "        cf_params = (\n",
    "            init_age,\n",
    "            transfer_prob,\n",
    "            retirement,\n",
    "            V[t - 1],\n",
    "            G[t - 1],\n",
    "            P,\n",
    "            po_lim,\n",
    "            d_p,\n",
    "            b_G,\n",
    "        )\n",
    "        net_cf = get_net_cf(t, pop, cf_params, makeham_params)\n",
    "\n",
    "        # update P2 vector\n",
    "        P2 = get_next_P2(P1, net_cf)\n",
    "        P2_sum = np.sum(P2)\n",
    "\n",
    "        # compute payoff LS\n",
    "        if strategy[-2:] == 'LS':\n",
    "            if t % 6 == 0:\n",
    "                S, K, payoff = option_data[maturity_counter, 2:]\n",
    "                if S > K:\n",
    "                    call_price = option_data[maturity_counter, 0]\n",
    "                    payoff_t = ((V_options * .5) / call_price) * payoff\n",
    "                elif K < S:\n",
    "                    put_price = option_data[maturity_counter, 1]\n",
    "                    payoff_t = ((V_options * .5) / put_price) * payoff\n",
    "                else:\n",
    "                    payoff_t = 0.0\n",
    "\n",
    "                V_payoff[t] = payoff_t # track payoff\n",
    "                V[t] += payoff_t\n",
    "                P2_sum = (P2_sum + payoff_t) # add option payoff\n",
    "                V_options = P2_sum * option_proportion # reallocate option capital\n",
    "                P2_sum = P2_sum - V_options # update portfolio\n",
    "                maturity_counter += 1\n",
    "\n",
    "        portfolio[t] = P2_sum # track portfolio\n",
    "        \n",
    "        # rebalance portfolio based on chosen strategy\n",
    "        # don't rebalance if buy-and-hold\n",
    "        if strategy[:2] != 'BH':\n",
    "            P2 = rebalance_portfolio(\n",
    "                strategy, D, BE_discounted[t], duration[t], P2_sum\n",
    "            )\n",
    "    return V, BE_discounted, portfolio, V_payoff"
   ]
  },
  {
   "cell_type": "code",
   "execution_count": 24,
   "metadata": {},
   "outputs": [],
   "source": [
    "# V variant\n",
    "@njit\n",
    "def sim_ALM_gen_(data, NS, pop, params, makeham_params, strategy, option_data, T=360):\n",
    "    init_age, transfer_prob, retirement, V0, P, po_lim, d_p, b_G, lbd_NS = params\n",
    "    G = pop[:, -1] # 1st order reserve\n",
    " \n",
    "    # compute BE\n",
    "    T_BE = ((120 - init_age) * 12) + 1\n",
    "    BE = np.zeros(T_BE)\n",
    "    for i in np.arange(1, T_BE + 1):\n",
    "        BE_params = init_age, transfer_prob, retirement, G[i - 1], P, b_G\n",
    "        BE[i - 1] = get_BE(i, pop, BE_params, makeham_params)\n",
    "\n",
    "    # discount BE and compute duration simultaneously\n",
    "    BE_discounted = np.zeros(T + 1)\n",
    "    duration = np.zeros(T + 1)\n",
    "    constant_duration = np.zeros(T + 1)\n",
    "    for i in np.arange(T + 1):\n",
    "        BE_i = BE[i:]\n",
    "        BE_discounted[i], duration[i] = discount_BE(\n",
    "            BE_i, NS[i], lbd_NS\n",
    "        )  # varying interest rate - NS\n",
    "        constant_duration[i] = get_duration_constant(\n",
    "            BE_i, d_p\n",
    "        )  # constant interest rate - 2%\n",
    "\n",
    "    if strategy == 'CPPI(2)':\n",
    "        D = np.mean(constant_duration)\n",
    "    else:\n",
    "        D = np.mean(duration)\n",
    "\n",
    "    # init params\n",
    "    assets = get_assets(data, strategy)\n",
    "    P2 = get_init_P2(V0, strategy, D, BE_discounted[0], duration[0])\n",
    "    v_mat = assets[1:] / assets[:-1]\n",
    "    V = np.zeros(T + 1)\n",
    "    V[0] = V0\n",
    "\n",
    "\n",
    "    # option strategy params\n",
    "    V_options = V0 * .02\n",
    "    maturity_counter = 0\n",
    "    option_proportion = .02\n",
    "    V_payoff = np.zeros(T + 1)\n",
    "\n",
    "    # simulate strategy\n",
    "    for t in np.arange(1, T + 1):\n",
    "        v = v_mat[t - 1]  # v(t) / v(t-1)\n",
    "        P1 = get_next_P1(P2, v)\n",
    "\n",
    "        # compute V - 2nd order reserve\n",
    "        V_params = init_age, retirement, V[t - 1], P, P1, P2, po_lim, d_p, b_G\n",
    "        V[t] = get_V(t, V_params, makeham_params)\n",
    "\n",
    "        # compute net cash flow\n",
    "        cf_params = (\n",
    "            init_age,\n",
    "            transfer_prob,\n",
    "            retirement,\n",
    "            V[t - 1],\n",
    "            G[t - 1],\n",
    "            P,\n",
    "            po_lim,\n",
    "            d_p,\n",
    "            b_G,\n",
    "        )\n",
    "        net_cf = get_net_cf(t, pop, cf_params, makeham_params)\n",
    "\n",
    "        # update P2 vector\n",
    "        P2 = get_next_P2(P1, net_cf)\n",
    "        print('P2', np.sum(P2))\n",
    "        print('V_t', V[t])\n",
    "\n",
    "        # compute payoff LS\n",
    "        if strategy[-2:] == 'LS':\n",
    "            if t % 6 == 0:\n",
    "                S, K, payoff = option_data[maturity_counter, 2:]\n",
    "                if S > K:\n",
    "                    call_price = option_data[maturity_counter, 0]\n",
    "                    payoff_t = ((V_options * .5) / call_price) * payoff\n",
    "                elif K < S:\n",
    "                    put_price = option_data[maturity_counter, 1]\n",
    "                    payoff_t = ((V_options * .5) / put_price) * payoff\n",
    "                else:\n",
    "                    payoff_t = 0.0\n",
    "                V_payoff[t] = payoff_t\n",
    "                V[t] = (V[t] + payoff_t) # add option payoff\n",
    "                V_options = V[t] * option_proportion # reallocate option capital\n",
    "                V[t] = V[t] - V_options # update portfolio\n",
    "                maturity_counter += 1\n",
    "\n",
    "        # rebalance portfolio based on chosen strategy\n",
    "        # don't rebalance if buy-and-hold\n",
    "        if strategy[:2] != 'BH':\n",
    "            P2 = rebalance_portfolio(\n",
    "                strategy, D, BE_discounted[t], duration[t], payoff_t, t, V[t]\n",
    "            )\n",
    "    return V, BE_discounted, V_payoff"
   ]
  },
  {
   "cell_type": "code",
   "execution_count": 29,
   "metadata": {},
   "outputs": [],
   "source": [
    "def get_G(params, makeham_params, horizon=30):\n",
    "    G0, P0, b, d_G, z, x = params\n",
    "    T = horizon * 12\n",
    "    G, P, B = np.zeros(T + 1), np.zeros(T + 1), np.zeros(T + 1)\n",
    "    retirement_idx = (z - x) * 12 + 1\n",
    "    P[:retirement_idx] = P0 / 12\n",
    "    B[retirement_idx:] = b / 12\n",
    "    G[0] = G0\n",
    "    for t in np.arange(1, T + 1):\n",
    "        risk_premium = get_risk_premium(-G[t - 1], t, x, makeham_params)\n",
    "        G[t] = G[t - 1] * np.exp(d_G / 12)  + P[t] - B[t] - risk_premium\n",
    "    return G"
   ]
  },
  {
   "cell_type": "code",
   "execution_count": 30,
   "metadata": {},
   "outputs": [],
   "source": [
    "def pop_projection(init_state, T, init_age, makeham_params, transfer_prob):\n",
    "    pop = np.zeros((T + 1, 4))\n",
    "    retirement = 65\n",
    "    if init_state == 'pp':\n",
    "        pop[0, 0] = 1\n",
    "    elif init_state == 'po':\n",
    "        pop[0, 1] = 1\n",
    "    else:\n",
    "        return print('Incorrect initial state')\n",
    "\n",
    "    for t in np.arange(1, T + 1):\n",
    "        t_pp_de, t_po_de, t_pp_tr, t_pp_po = get_transitions(\n",
    "            pop, t, init_age, makeham_params, transfer_prob, retirement\n",
    "        )\n",
    "        pop[t, 0] = pop[t - 1, 0] - t_pp_de - t_pp_tr - t_pp_po # PP\n",
    "        pop[t, 1] = pop[t - 1, 1] - t_po_de + t_pp_po # PO\n",
    "        pop[t, 2] = pop[t - 1, 2] + t_pp_de + t_po_de # DE\n",
    "        pop[t, 3] = pop[t - 1, 3] + t_pp_tr # TR\n",
    "    return pop"
   ]
  },
  {
   "cell_type": "code",
   "execution_count": 31,
   "metadata": {},
   "outputs": [],
   "source": [
    "def get_pop(params, makeham_params, horizon):\n",
    "    G0, P0, b, d_G, z, x, transfer_prob = params\n",
    "    T = horizon * 12\n",
    "    G_params = G0, P0, b, d_G, z, x\n",
    "    G = get_G(G_params, makeham_params, horizon)\n",
    "    pop_sim = pop_projection(\n",
    "        init_state='pp', \n",
    "        T=T,\n",
    "        init_age=x,\n",
    "        makeham_params=makeham_params, \n",
    "        transfer_prob=transfer_prob\n",
    "    )\n",
    "    pop_df = pd.DataFrame(\n",
    "        {\n",
    "            'Simulated Age': 60 + np.arange(T + 1) / 12,\n",
    "            'PP': pop_sim[:, 0],\n",
    "            'PO': pop_sim[:, 1],\n",
    "            'DE': pop_sim[:, 2],\n",
    "            'TR': pop_sim[:, 3]\n",
    "        }\n",
    "    ).set_index('Simulated Age')\n",
    "    pop_df['1st Order Reserve'] = G\n",
    "    return pop_df"
   ]
  },
  {
   "cell_type": "code",
   "execution_count": 32,
   "metadata": {},
   "outputs": [],
   "source": [
    "# intial params\n",
    "T = 30 * 12 # months of simulation\n",
    "retirement = 65 # retirement age\n",
    "init_age = 60 # initial age of policyholder\n",
    "m = 12.\n",
    "transfer_prob_yearly = 0.02 # yearly transfer rate\n",
    "transfer_prob = 1. - np.power(1. - transfer_prob_yearly, 1. / m) # monthly transfer rate\n",
    "\n",
    "# policyholder parameters\n",
    "makeham_params_women = (0.0008721896252326899, 5.46142985377206e-07, 0.13793619493148213)\n",
    "b = 168506.25\n",
    "G0 = 2_000_000 # 1st order reserve\n",
    "P0 = 120_000 # initial monthly premium\n",
    "x = 60 # initial age\n",
    "z = 65 # retirement age\n",
    "s = 120 - z # maximum payoyt horizon\n",
    "u = z - x # time until retirement\n",
    "r_G = .02 # prognosis rate (yearly)\n",
    "d_G = np.log(1 + r_G) # contionuos compounded prognosis rate\n",
    "pop_params = G0, P0, b, d_G, z, x, transfer_prob"
   ]
  },
  {
   "cell_type": "code",
   "execution_count": 33,
   "metadata": {},
   "outputs": [
    {
     "data": {
      "text/html": [
       "<div>\n",
       "<style scoped>\n",
       "    .dataframe tbody tr th:only-of-type {\n",
       "        vertical-align: middle;\n",
       "    }\n",
       "\n",
       "    .dataframe tbody tr th {\n",
       "        vertical-align: top;\n",
       "    }\n",
       "\n",
       "    .dataframe thead th {\n",
       "        text-align: right;\n",
       "    }\n",
       "</style>\n",
       "<table border=\"1\" class=\"dataframe\">\n",
       "  <thead>\n",
       "    <tr style=\"text-align: right;\">\n",
       "      <th></th>\n",
       "      <th>PP</th>\n",
       "      <th>PO</th>\n",
       "      <th>DE</th>\n",
       "      <th>TR</th>\n",
       "      <th>1st Order Reserve</th>\n",
       "    </tr>\n",
       "    <tr>\n",
       "      <th>Simulated Age</th>\n",
       "      <th></th>\n",
       "      <th></th>\n",
       "      <th></th>\n",
       "      <th></th>\n",
       "      <th></th>\n",
       "    </tr>\n",
       "  </thead>\n",
       "  <tbody>\n",
       "    <tr>\n",
       "      <th>60.000000</th>\n",
       "      <td>1.000000</td>\n",
       "      <td>0.000000e+00</td>\n",
       "      <td>0.000000</td>\n",
       "      <td>0.000000</td>\n",
       "      <td>2.000000e+06</td>\n",
       "    </tr>\n",
       "    <tr>\n",
       "      <th>60.083333</th>\n",
       "      <td>0.998066</td>\n",
       "      <td>0.000000e+00</td>\n",
       "      <td>0.000253</td>\n",
       "      <td>0.001682</td>\n",
       "      <td>2.013808e+06</td>\n",
       "    </tr>\n",
       "    <tr>\n",
       "      <th>60.166667</th>\n",
       "      <td>0.996133</td>\n",
       "      <td>0.000000e+00</td>\n",
       "      <td>0.000507</td>\n",
       "      <td>0.003360</td>\n",
       "      <td>2.027647e+06</td>\n",
       "    </tr>\n",
       "    <tr>\n",
       "      <th>60.250000</th>\n",
       "      <td>0.994202</td>\n",
       "      <td>0.000000e+00</td>\n",
       "      <td>0.000762</td>\n",
       "      <td>0.005035</td>\n",
       "      <td>2.041517e+06</td>\n",
       "    </tr>\n",
       "    <tr>\n",
       "      <th>60.333333</th>\n",
       "      <td>0.992273</td>\n",
       "      <td>0.000000e+00</td>\n",
       "      <td>0.001020</td>\n",
       "      <td>0.006707</td>\n",
       "      <td>2.055417e+06</td>\n",
       "    </tr>\n",
       "    <tr>\n",
       "      <th>...</th>\n",
       "      <td>...</td>\n",
       "      <td>...</td>\n",
       "      <td>...</td>\n",
       "      <td>...</td>\n",
       "      <td>...</td>\n",
       "    </tr>\n",
       "    <tr>\n",
       "      <th>119.666667</th>\n",
       "      <td>0.000000</td>\n",
       "      <td>3.856513e-26</td>\n",
       "      <td>0.903292</td>\n",
       "      <td>0.096708</td>\n",
       "      <td>-7.976838e+28</td>\n",
       "    </tr>\n",
       "    <tr>\n",
       "      <th>119.750000</th>\n",
       "      <td>0.000000</td>\n",
       "      <td>1.963600e-26</td>\n",
       "      <td>0.903292</td>\n",
       "      <td>0.096708</td>\n",
       "      <td>-1.567969e+29</td>\n",
       "    </tr>\n",
       "    <tr>\n",
       "      <th>119.833333</th>\n",
       "      <td>0.000000</td>\n",
       "      <td>9.920251e-27</td>\n",
       "      <td>0.903292</td>\n",
       "      <td>0.096708</td>\n",
       "      <td>-3.106206e+29</td>\n",
       "    </tr>\n",
       "    <tr>\n",
       "      <th>119.916667</th>\n",
       "      <td>0.000000</td>\n",
       "      <td>4.972381e-27</td>\n",
       "      <td>0.903292</td>\n",
       "      <td>0.096708</td>\n",
       "      <td>-6.202230e+29</td>\n",
       "    </tr>\n",
       "    <tr>\n",
       "      <th>120.000000</th>\n",
       "      <td>0.000000</td>\n",
       "      <td>2.472514e-27</td>\n",
       "      <td>0.903292</td>\n",
       "      <td>0.096708</td>\n",
       "      <td>-1.248332e+30</td>\n",
       "    </tr>\n",
       "  </tbody>\n",
       "</table>\n",
       "<p>721 rows × 5 columns</p>\n",
       "</div>"
      ],
      "text/plain": [
       "                     PP            PO        DE        TR  1st Order Reserve\n",
       "Simulated Age                                                               \n",
       "60.000000      1.000000  0.000000e+00  0.000000  0.000000       2.000000e+06\n",
       "60.083333      0.998066  0.000000e+00  0.000253  0.001682       2.013808e+06\n",
       "60.166667      0.996133  0.000000e+00  0.000507  0.003360       2.027647e+06\n",
       "60.250000      0.994202  0.000000e+00  0.000762  0.005035       2.041517e+06\n",
       "60.333333      0.992273  0.000000e+00  0.001020  0.006707       2.055417e+06\n",
       "...                 ...           ...       ...       ...                ...\n",
       "119.666667     0.000000  3.856513e-26  0.903292  0.096708      -7.976838e+28\n",
       "119.750000     0.000000  1.963600e-26  0.903292  0.096708      -1.567969e+29\n",
       "119.833333     0.000000  9.920251e-27  0.903292  0.096708      -3.106206e+29\n",
       "119.916667     0.000000  4.972381e-27  0.903292  0.096708      -6.202230e+29\n",
       "120.000000     0.000000  2.472514e-27  0.903292  0.096708      -1.248332e+30\n",
       "\n",
       "[721 rows x 5 columns]"
      ]
     },
     "execution_count": 33,
     "metadata": {},
     "output_type": "execute_result"
    }
   ],
   "source": [
    "pop_120 = get_pop(pop_params, makeham_params_women, horizon=60)\n",
    "pop_120"
   ]
  },
  {
   "cell_type": "code",
   "execution_count": 34,
   "metadata": {},
   "outputs": [],
   "source": [
    "# read data\n",
    "one_scenario = pd.read_csv('data/OneScenario.csv', index_col='Period')\n",
    "data_one = one_scenario.drop(columns=['Unnamed: 0', 'Scenario'])"
   ]
  },
  {
   "cell_type": "code",
   "execution_count": 35,
   "metadata": {},
   "outputs": [
    {
     "data": {
      "text/html": [
       "<div>\n",
       "<style scoped>\n",
       "    .dataframe tbody tr th:only-of-type {\n",
       "        vertical-align: middle;\n",
       "    }\n",
       "\n",
       "    .dataframe tbody tr th {\n",
       "        vertical-align: top;\n",
       "    }\n",
       "\n",
       "    .dataframe thead th {\n",
       "        text-align: right;\n",
       "    }\n",
       "</style>\n",
       "<table border=\"1\" class=\"dataframe\">\n",
       "  <thead>\n",
       "    <tr style=\"text-align: right;\">\n",
       "      <th></th>\n",
       "      <th>BA</th>\n",
       "      <th>CAT</th>\n",
       "      <th>KO</th>\n",
       "      <th>DIS</th>\n",
       "      <th>JPM</th>\n",
       "      <th>MMM</th>\n",
       "      <th>MSFT</th>\n",
       "      <th>PFE</th>\n",
       "      <th>WMT</th>\n",
       "      <th>XOM</th>\n",
       "      <th>5Y</th>\n",
       "      <th>10Y</th>\n",
       "      <th>15Y</th>\n",
       "      <th>20Y</th>\n",
       "      <th>30Y</th>\n",
       "      <th>b1</th>\n",
       "      <th>b2</th>\n",
       "      <th>b3</th>\n",
       "    </tr>\n",
       "    <tr>\n",
       "      <th>Period</th>\n",
       "      <th></th>\n",
       "      <th></th>\n",
       "      <th></th>\n",
       "      <th></th>\n",
       "      <th></th>\n",
       "      <th></th>\n",
       "      <th></th>\n",
       "      <th></th>\n",
       "      <th></th>\n",
       "      <th></th>\n",
       "      <th></th>\n",
       "      <th></th>\n",
       "      <th></th>\n",
       "      <th></th>\n",
       "      <th></th>\n",
       "      <th></th>\n",
       "      <th></th>\n",
       "      <th></th>\n",
       "    </tr>\n",
       "  </thead>\n",
       "  <tbody>\n",
       "    <tr>\n",
       "      <th>0</th>\n",
       "      <td>320.792166</td>\n",
       "      <td>143.343781</td>\n",
       "      <td>53.780119</td>\n",
       "      <td>141.816898</td>\n",
       "      <td>134.511845</td>\n",
       "      <td>169.601209</td>\n",
       "      <td>155.001728</td>\n",
       "      <td>37.374192</td>\n",
       "      <td>117.680306</td>\n",
       "      <td>65.502295</td>\n",
       "      <td>100.000000</td>\n",
       "      <td>100.000000</td>\n",
       "      <td>100.000000</td>\n",
       "      <td>100.000000</td>\n",
       "      <td>100.000000</td>\n",
       "      <td>0.02</td>\n",
       "      <td>0.0</td>\n",
       "      <td>0.0</td>\n",
       "    </tr>\n",
       "    <tr>\n",
       "      <th>1</th>\n",
       "      <td>322.099113</td>\n",
       "      <td>143.927782</td>\n",
       "      <td>53.999226</td>\n",
       "      <td>142.394678</td>\n",
       "      <td>135.059863</td>\n",
       "      <td>170.292185</td>\n",
       "      <td>155.633224</td>\n",
       "      <td>37.526459</td>\n",
       "      <td>118.159750</td>\n",
       "      <td>65.769159</td>\n",
       "      <td>100.246627</td>\n",
       "      <td>100.246627</td>\n",
       "      <td>100.246627</td>\n",
       "      <td>100.246627</td>\n",
       "      <td>100.246627</td>\n",
       "      <td>0.02</td>\n",
       "      <td>0.0</td>\n",
       "      <td>0.0</td>\n",
       "    </tr>\n",
       "    <tr>\n",
       "      <th>2</th>\n",
       "      <td>323.411384</td>\n",
       "      <td>144.514161</td>\n",
       "      <td>54.219225</td>\n",
       "      <td>142.974811</td>\n",
       "      <td>135.610113</td>\n",
       "      <td>170.985977</td>\n",
       "      <td>156.267293</td>\n",
       "      <td>37.679346</td>\n",
       "      <td>118.641147</td>\n",
       "      <td>66.037111</td>\n",
       "      <td>100.493862</td>\n",
       "      <td>100.493862</td>\n",
       "      <td>100.493862</td>\n",
       "      <td>100.493862</td>\n",
       "      <td>100.493862</td>\n",
       "      <td>0.02</td>\n",
       "      <td>0.0</td>\n",
       "      <td>0.0</td>\n",
       "    </tr>\n",
       "    <tr>\n",
       "      <th>3</th>\n",
       "      <td>324.729002</td>\n",
       "      <td>145.102930</td>\n",
       "      <td>54.440121</td>\n",
       "      <td>143.557308</td>\n",
       "      <td>136.162606</td>\n",
       "      <td>171.682595</td>\n",
       "      <td>156.903945</td>\n",
       "      <td>37.832857</td>\n",
       "      <td>119.124506</td>\n",
       "      <td>66.306154</td>\n",
       "      <td>100.741707</td>\n",
       "      <td>100.741707</td>\n",
       "      <td>100.741707</td>\n",
       "      <td>100.741707</td>\n",
       "      <td>100.741707</td>\n",
       "      <td>0.02</td>\n",
       "      <td>0.0</td>\n",
       "      <td>0.0</td>\n",
       "    </tr>\n",
       "    <tr>\n",
       "      <th>4</th>\n",
       "      <td>326.051989</td>\n",
       "      <td>145.694097</td>\n",
       "      <td>54.661917</td>\n",
       "      <td>144.142179</td>\n",
       "      <td>136.717349</td>\n",
       "      <td>172.382051</td>\n",
       "      <td>157.543191</td>\n",
       "      <td>37.986992</td>\n",
       "      <td>119.609834</td>\n",
       "      <td>66.576294</td>\n",
       "      <td>100.990163</td>\n",
       "      <td>100.990163</td>\n",
       "      <td>100.990163</td>\n",
       "      <td>100.990163</td>\n",
       "      <td>100.990163</td>\n",
       "      <td>0.02</td>\n",
       "      <td>0.0</td>\n",
       "      <td>0.0</td>\n",
       "    </tr>\n",
       "  </tbody>\n",
       "</table>\n",
       "</div>"
      ],
      "text/plain": [
       "                BA         CAT         KO         DIS         JPM         MMM  \\\n",
       "Period                                                                          \n",
       "0       320.792166  143.343781  53.780119  141.816898  134.511845  169.601209   \n",
       "1       322.099113  143.927782  53.999226  142.394678  135.059863  170.292185   \n",
       "2       323.411384  144.514161  54.219225  142.974811  135.610113  170.985977   \n",
       "3       324.729002  145.102930  54.440121  143.557308  136.162606  171.682595   \n",
       "4       326.051989  145.694097  54.661917  144.142179  136.717349  172.382051   \n",
       "\n",
       "              MSFT        PFE         WMT        XOM          5Y         10Y  \\\n",
       "Period                                                                         \n",
       "0       155.001728  37.374192  117.680306  65.502295  100.000000  100.000000   \n",
       "1       155.633224  37.526459  118.159750  65.769159  100.246627  100.246627   \n",
       "2       156.267293  37.679346  118.641147  66.037111  100.493862  100.493862   \n",
       "3       156.903945  37.832857  119.124506  66.306154  100.741707  100.741707   \n",
       "4       157.543191  37.986992  119.609834  66.576294  100.990163  100.990163   \n",
       "\n",
       "               15Y         20Y         30Y    b1   b2   b3  \n",
       "Period                                                      \n",
       "0       100.000000  100.000000  100.000000  0.02  0.0  0.0  \n",
       "1       100.246627  100.246627  100.246627  0.02  0.0  0.0  \n",
       "2       100.493862  100.493862  100.493862  0.02  0.0  0.0  \n",
       "3       100.741707  100.741707  100.741707  0.02  0.0  0.0  \n",
       "4       100.990163  100.990163  100.990163  0.02  0.0  0.0  "
      ]
     },
     "execution_count": 35,
     "metadata": {},
     "output_type": "execute_result"
    }
   ],
   "source": [
    "data_one.head()"
   ]
  },
  {
   "cell_type": "code",
   "execution_count": 36,
   "metadata": {},
   "outputs": [],
   "source": [
    "# ALM parameters\n",
    "makeham_params_women = (0.0008721896252326899, 5.46142985377206e-07, 0.13793619493148213)\n",
    "V0 = 2_600_000.0 # initial 2nd order reserve\n",
    "P = 120_000.0 # yearly premium\n",
    "retirement_age = 65 # retirement age in month\n",
    "init_age = 60 # initial age of policyholder\n",
    "transfer_prob_yearly = .02 # yearly transfer rate\n",
    "transfer_prob = 1 - np.power(1 - transfer_prob_yearly, 1 / 12) # monthly transfer rate\n",
    "payout_limit = 120\n",
    "r_y = .02 # yearly prognosis rate\n",
    "d_p = np.log(1 + r_y) # continuous compounding of prognosis rate\n",
    "b_G = b / 12 # guaranteed payoff, if B(t) < b\n",
    "lbd_NS = .7308 # Nielson-Siegel lambda (monthly)\n",
    "NS = data_one.iloc[:, -3:].values # NS parameters"
   ]
  },
  {
   "cell_type": "code",
   "execution_count": 37,
   "metadata": {},
   "outputs": [],
   "source": [
    "params = init_age, transfer_prob, retirement_age, V0, P, payout_limit, d_p, b_G, lbd_NS\n",
    "V, BE, _, _ = sim_ALM_gen(\n",
    "    data_one.values, NS, pop_120.values, params, makeham_params_women, strategy='BH(100/0)', option_data=np.zeros((3, 3)), T=360\n",
    ")"
   ]
  },
  {
   "cell_type": "code",
   "execution_count": 38,
   "metadata": {},
   "outputs": [],
   "source": [
    "# computed expected 1st and 2nd order reserves\n",
    "E = (pop_120['PP'] + pop_120['PO']).values[:V.shape[0]]\n",
    "V_E = V * E\n",
    "G_E = pop_120['1st Order Reserve'].values[:V.shape[0]] * E\n",
    "BOF = V_E - BE"
   ]
  },
  {
   "cell_type": "code",
   "execution_count": 39,
   "metadata": {},
   "outputs": [],
   "source": [
    "# create df for plotting\n",
    "items_df = pd.DataFrame({\n",
    "    'Month': np.arange(361),\n",
    "    'E[G]': G_E,\n",
    "    'E[V]': V_E,\n",
    "    'V': V,\n",
    "    'BE': BE,\n",
    "    'BOF': BOF\n",
    "}).set_index('Month')"
   ]
  },
  {
   "cell_type": "code",
   "execution_count": 40,
   "metadata": {},
   "outputs": [
    {
     "data": {
      "image/png": "[encoded data removed]",
      "text/plain": [
       "<Figure size 720x432 with 1 Axes>"
      ]
     },
     "metadata": {},
     "output_type": "display_data"
    }
   ],
   "source": [
    "items_df.plot(figsize=(10, 6))\n",
    "plt.legend(frameon=1, facecolor='white', framealpha=1, title='Item')\n",
    "plt.ylabel('Monetary Units')\n",
    "plt.xlabel('Simulated Month')\n",
    "plt.tight_layout()\n",
    "plt.savefig('plots_CA3b/5.png', dpi=plt_dpi, bbox_inches='tight')\n",
    "plt.show()"
   ]
  },
  {
   "cell_type": "code",
   "execution_count": 41,
   "metadata": {},
   "outputs": [],
   "source": [
    "items_5b = items_df.loc[[0, 60, 120]]"
   ]
  },
  {
   "cell_type": "code",
   "execution_count": 42,
   "metadata": {},
   "outputs": [
    {
     "name": "stdout",
     "output_type": "stream",
     "text": [
      "\\begin{table}[H]\n",
      "\\centering\n",
      "\\caption{The 1st and 2nd reserve along with the value of the underlying assets, Best Estimate (BE) and Basic Own Funds (BOF), in month 0, 60 and 120, respectively.}\n",
      "\\label{tab:5b_items}\n",
      "\\begin{tabular}{lrrrrr}\n",
      "\\toprule\n",
      "{} &          E[G] &          E[V] &             V &            BE &           BOF \\\\\n",
      "Month &               &               &               &               &               \\\\\n",
      "\\midrule\n",
      "0     &  2.000000e+06 &  2.600000e+06 &  2.600000e+06 &  1.999555e+06 &  6.004449e+05 \\\\\n",
      "60    &  2.560459e+06 &  3.606870e+06 &  4.070085e+06 &  2.560525e+06 &  1.046344e+06 \\\\\n",
      "120   &  2.051421e+06 &  3.345262e+06 &  3.916525e+06 &  2.051643e+06 &  1.293619e+06 \\\\\n",
      "\\bottomrule\n",
      "\\end{tabular}\n",
      "\\end{table}\n",
      "\n"
     ]
    }
   ],
   "source": [
    "# for report use - 5b\n",
    "cap = 'The 1st and 2nd reserve along with the value of the underlying assets, Best Estimate (BE) \\\n",
    "and Basic Own Funds (BOF), in month 0, 60 and 120, respectively.'\n",
    "print(items_5b.to_latex(position='H', caption=cap, label='tab:5b_items'))"
   ]
  },
  {
   "cell_type": "markdown",
   "metadata": {},
   "source": [
    "### 6. Test investment strategies"
   ]
  },
  {
   "cell_type": "code",
   "execution_count": 43,
   "metadata": {},
   "outputs": [],
   "source": [
    "@njit\n",
    "def cnd(d):\n",
    "    A1 = 0.31938153\n",
    "    A2 = -0.356563782\n",
    "    A3 = 1.781477937\n",
    "    A4 = -1.821255978\n",
    "    A5 = 1.330274429\n",
    "    RSQRT2PI = 0.39894228040143267793994605993438\n",
    "    K = 1.0 / (1.0 + 0.2316419 * np.abs(d))\n",
    "    ret_val = (RSQRT2PI * np.exp(-0.5 * d * d) *\n",
    "               (K * (A1 + K * (A2 + K * (A3 + K * (A4 + K * A5))))))\n",
    "    return np.where(d > 0, 1.0 - ret_val, ret_val)"
   ]
  },
  {
   "cell_type": "code",
   "execution_count": 44,
   "metadata": {},
   "outputs": [],
   "source": [
    "@njit\n",
    "def black_scholes(stockPrice, optionStrike, optionYears, Riskfree, Volatility):\n",
    "    S = stockPrice\n",
    "    X = optionStrike\n",
    "    T = optionYears\n",
    "    R = Riskfree\n",
    "    V = Volatility\n",
    "    sqrtT = np.sqrt(T)\n",
    "    d1 = (np.log(S / X) + (R + 0.5 * V * V) * T) / (V * sqrtT)\n",
    "    d2 = d1 - V * sqrtT\n",
    "    cndd1 = cnd(d1)\n",
    "    cndd2 = cnd(d2)\n",
    "\n",
    "    expRT = np.exp(- R * T)\n",
    "\n",
    "    callResult = S * cndd1 - X * expRT * cndd2\n",
    "    putResult = X * expRT * (1.0 - cndd2) - S * (1.0 - cndd1)\n",
    "\n",
    "    return np.max(np.array([callResult, 0.01])), np.max(np.array([putResult, 0.01]))"
   ]
  },
  {
   "cell_type": "code",
   "execution_count": 45,
   "metadata": {},
   "outputs": [],
   "source": [
    "def upper_tri_masking(A):\n",
    "    \"\"\" Upper triangular without diagonal elements \"\"\"\n",
    "    m = A.shape[0]\n",
    "    r = np.arange(m)\n",
    "    mask = r[:, None] < r\n",
    "    return A[mask]"
   ]
  },
  {
   "cell_type": "code",
   "execution_count": 46,
   "metadata": {},
   "outputs": [],
   "source": [
    "def cov2cor(covariance):\n",
    "    v = np.sqrt(np.diag(covariance))\n",
    "    outer_v = np.outer(v, v)\n",
    "    correlation = covariance / outer_v\n",
    "    correlation[covariance == 0] = 0\n",
    "    return correlation"
   ]
  },
  {
   "cell_type": "code",
   "execution_count": 47,
   "metadata": {},
   "outputs": [],
   "source": [
    "def mv_ewma_recursion(y, lbd, sigma):\n",
    "    \"\"\"\n",
    "    Input: Log return y, lambda lbd and\n",
    "           covariance matrix sigma.\n",
    "    Output: Volatility forecast next day \n",
    "    \"\"\"\n",
    "    ret = (1 - lbd) * y.T @ y + lbd * sigma\n",
    "    return ret"
   ]
  },
  {
   "cell_type": "code",
   "execution_count": 48,
   "metadata": {},
   "outputs": [],
   "source": [
    "def ewma_recursion(y, lbd, sigma):\n",
    "    \"\"\"\n",
    "    Input: Log return y, lambda lbd and\n",
    "           covariance matrix sigma.\n",
    "    Output: Volatility forecast next day \n",
    "    \"\"\"\n",
    "    ret = (1 - lbd) * np.square(y) + lbd * sigma\n",
    "    return ret"
   ]
  },
  {
   "cell_type": "code",
   "execution_count": 49,
   "metadata": {},
   "outputs": [],
   "source": [
    "def ewma(init_cov, lbd, Y, dim, n_assets):\n",
    "    \"\"\"\n",
    "    Input: Initial covariance, log returns Y for n assets\n",
    "           and the dimension. \n",
    "    Output: The covariance for the n assets during\n",
    "            dim months.\n",
    "    \"\"\"\n",
    "    sig = np.zeros((dim, n_assets))\n",
    "    sig[0] = init_cov\n",
    "    for i in np.arange(1, dim):\n",
    "        y = Y[i - 1]\n",
    "        if n_assets > 1:\n",
    "            res = mv_ewma_recursion(y, lbd, sig[i - 1])\n",
    "            sig[i] = upper_tri_masking(res)\n",
    "        else:\n",
    "            sig[i] = ewma_recursion(y, lbd, sig[i - 1])\n",
    "    return np.sqrt(sig)"
   ]
  },
  {
   "cell_type": "code",
   "execution_count": 50,
   "metadata": {},
   "outputs": [],
   "source": [
    "# generate ALM scenarios - balance sheet simulation \n",
    "def generate_scenarios(\n",
    "    data_scen, pop, params, makeham_params, strategy, option_data, n_scenarios=2000, n_months=121\n",
    "):\n",
    "    V_mat, G_mat = np.zeros((n_scenarios, n_months)), np.zeros((n_scenarios, n_months))\n",
    "    BE_mat, BOF_mat = np.zeros((n_scenarios, n_months)), np.zeros((n_scenarios, n_months))\n",
    "    po_mat, portfolio = np.zeros((n_scenarios, n_months)), np.zeros((n_scenarios, n_months))\n",
    "    assets = np.zeros((n_scenarios, n_months))\n",
    "    E = (pop[:, 0] + pop[:, 1])[:n_months]\n",
    "    G_E = pop[:n_months, -1] * E\n",
    "    for s in np.arange(n_scenarios):\n",
    "        data = data_scen[data_scen.Scenario == s + 1]\n",
    "        NS_params = data.iloc[:, -3:].values\n",
    "        sim_data = data.iloc[:, 2:-3].values\n",
    "        options = option_data[s]\n",
    "        V, BE, portfolio_s, payoff_s = sim_ALM_gen(\n",
    "            sim_data, NS_params, pop, params, makeham_params, strategy, options, T=n_months-1\n",
    "        )\n",
    "        V_E = V * E\n",
    "        BOF = V_E - BE\n",
    "        V_mat[s], G_mat[s] = V_E, G_E\n",
    "        BE_mat[s], BOF_mat[s] = BE, BOF\n",
    "        portfolio[s] = portfolio_s\n",
    "        assets[s] = V\n",
    "        po_mat[s] = payoff_s # option payoff\n",
    "\n",
    "    res = {\n",
    "        'V': assets,\n",
    "        'E[V]': V_mat,\n",
    "        'E[G]': G_mat,\n",
    "        'BE': BE_mat,\n",
    "        'BOF': BOF_mat,\n",
    "        'Portfolio': portfolio,\n",
    "        'Payoff': po_mat\n",
    "    }\n",
    "    return res"
   ]
  },
  {
   "cell_type": "code",
   "execution_count": 51,
   "metadata": {},
   "outputs": [],
   "source": [
    "def get_delta_BOF(BOF, quantile=5):\n",
    "    yearly_BOF = BOF[:, 12]\n",
    "    delta_BOF = yearly_BOF - BOF[:, 0]\n",
    "    BOF_var = np.percentile(delta_BOF, q=quantile, axis=0)\n",
    "    return yearly_BOF, delta_BOF, BOF_var"
   ]
  },
  {
   "cell_type": "code",
   "execution_count": 52,
   "metadata": {},
   "outputs": [],
   "source": [
    "# read data\n",
    "scenarios = pd.read_csv('data/ScenarioFile.csv')\n",
    "data_scen = scenarios.drop(columns=['Unnamed: 0'])"
   ]
  },
  {
   "cell_type": "code",
   "execution_count": 53,
   "metadata": {},
   "outputs": [
    {
     "data": {
      "text/html": [
       "<div>\n",
       "<style scoped>\n",
       "    .dataframe tbody tr th:only-of-type {\n",
       "        vertical-align: middle;\n",
       "    }\n",
       "\n",
       "    .dataframe tbody tr th {\n",
       "        vertical-align: top;\n",
       "    }\n",
       "\n",
       "    .dataframe thead th {\n",
       "        text-align: right;\n",
       "    }\n",
       "</style>\n",
       "<table border=\"1\" class=\"dataframe\">\n",
       "  <thead>\n",
       "    <tr style=\"text-align: right;\">\n",
       "      <th></th>\n",
       "      <th>Scenario</th>\n",
       "      <th>Period</th>\n",
       "      <th>BA</th>\n",
       "      <th>CAT</th>\n",
       "      <th>KO</th>\n",
       "      <th>DIS</th>\n",
       "      <th>JPM</th>\n",
       "      <th>MMM</th>\n",
       "      <th>MSFT</th>\n",
       "      <th>PFE</th>\n",
       "      <th>WMT</th>\n",
       "      <th>XOM</th>\n",
       "      <th>Y05</th>\n",
       "      <th>Y10</th>\n",
       "      <th>Y15</th>\n",
       "      <th>Y20</th>\n",
       "      <th>Y30</th>\n",
       "      <th>b1</th>\n",
       "      <th>b2</th>\n",
       "      <th>b3</th>\n",
       "    </tr>\n",
       "  </thead>\n",
       "  <tbody>\n",
       "    <tr>\n",
       "      <th>0</th>\n",
       "      <td>1</td>\n",
       "      <td>0</td>\n",
       "      <td>216.191063</td>\n",
       "      <td>177.803662</td>\n",
       "      <td>54.180673</td>\n",
       "      <td>188.928619</td>\n",
       "      <td>123.855865</td>\n",
       "      <td>169.727137</td>\n",
       "      <td>219.181528</td>\n",
       "      <td>35.159744</td>\n",
       "      <td>143.169719</td>\n",
       "      <td>39.716839</td>\n",
       "      <td>100.000000</td>\n",
       "      <td>100.000000</td>\n",
       "      <td>100.000000</td>\n",
       "      <td>100.000000</td>\n",
       "      <td>100.000000</td>\n",
       "      <td>0.021900</td>\n",
       "      <td>0.188112</td>\n",
       "      <td>-0.283152</td>\n",
       "    </tr>\n",
       "    <tr>\n",
       "      <th>1</th>\n",
       "      <td>1</td>\n",
       "      <td>1</td>\n",
       "      <td>223.031499</td>\n",
       "      <td>183.388667</td>\n",
       "      <td>54.807262</td>\n",
       "      <td>190.633176</td>\n",
       "      <td>120.778266</td>\n",
       "      <td>175.718032</td>\n",
       "      <td>235.215506</td>\n",
       "      <td>36.817413</td>\n",
       "      <td>126.197229</td>\n",
       "      <td>41.823050</td>\n",
       "      <td>99.718693</td>\n",
       "      <td>99.265869</td>\n",
       "      <td>98.948281</td>\n",
       "      <td>98.350537</td>\n",
       "      <td>95.640073</td>\n",
       "      <td>0.023508</td>\n",
       "      <td>0.216602</td>\n",
       "      <td>-0.318716</td>\n",
       "    </tr>\n",
       "    <tr>\n",
       "      <th>2</th>\n",
       "      <td>1</td>\n",
       "      <td>2</td>\n",
       "      <td>239.122498</td>\n",
       "      <td>229.922812</td>\n",
       "      <td>52.481603</td>\n",
       "      <td>199.669139</td>\n",
       "      <td>125.626846</td>\n",
       "      <td>168.990036</td>\n",
       "      <td>243.991493</td>\n",
       "      <td>36.101938</td>\n",
       "      <td>138.967343</td>\n",
       "      <td>42.963806</td>\n",
       "      <td>100.120569</td>\n",
       "      <td>100.398284</td>\n",
       "      <td>100.641394</td>\n",
       "      <td>100.418688</td>\n",
       "      <td>96.750479</td>\n",
       "      <td>0.023260</td>\n",
       "      <td>0.265108</td>\n",
       "      <td>-0.374475</td>\n",
       "    </tr>\n",
       "    <tr>\n",
       "      <th>3</th>\n",
       "      <td>1</td>\n",
       "      <td>3</td>\n",
       "      <td>215.245000</td>\n",
       "      <td>210.937407</td>\n",
       "      <td>52.844865</td>\n",
       "      <td>209.836597</td>\n",
       "      <td>137.181146</td>\n",
       "      <td>170.467802</td>\n",
       "      <td>233.218469</td>\n",
       "      <td>38.606766</td>\n",
       "      <td>149.574499</td>\n",
       "      <td>45.009583</td>\n",
       "      <td>100.268116</td>\n",
       "      <td>100.574060</td>\n",
       "      <td>100.677057</td>\n",
       "      <td>100.416835</td>\n",
       "      <td>97.687782</td>\n",
       "      <td>0.023090</td>\n",
       "      <td>0.250679</td>\n",
       "      <td>-0.358777</td>\n",
       "    </tr>\n",
       "    <tr>\n",
       "      <th>4</th>\n",
       "      <td>1</td>\n",
       "      <td>4</td>\n",
       "      <td>174.459243</td>\n",
       "      <td>187.442297</td>\n",
       "      <td>53.385205</td>\n",
       "      <td>201.224457</td>\n",
       "      <td>119.300384</td>\n",
       "      <td>160.572319</td>\n",
       "      <td>214.513367</td>\n",
       "      <td>37.410079</td>\n",
       "      <td>163.217767</td>\n",
       "      <td>43.318428</td>\n",
       "      <td>100.574698</td>\n",
       "      <td>101.227399</td>\n",
       "      <td>101.318576</td>\n",
       "      <td>100.984574</td>\n",
       "      <td>98.890871</td>\n",
       "      <td>0.022972</td>\n",
       "      <td>0.261942</td>\n",
       "      <td>-0.373095</td>\n",
       "    </tr>\n",
       "  </tbody>\n",
       "</table>\n",
       "</div>"
      ],
      "text/plain": [
       "   Scenario  Period          BA         CAT         KO         DIS  \\\n",
       "0         1       0  216.191063  177.803662  54.180673  188.928619   \n",
       "1         1       1  223.031499  183.388667  54.807262  190.633176   \n",
       "2         1       2  239.122498  229.922812  52.481603  199.669139   \n",
       "3         1       3  215.245000  210.937407  52.844865  209.836597   \n",
       "4         1       4  174.459243  187.442297  53.385205  201.224457   \n",
       "\n",
       "          JPM         MMM        MSFT        PFE         WMT        XOM  \\\n",
       "0  123.855865  169.727137  219.181528  35.159744  143.169719  39.716839   \n",
       "1  120.778266  175.718032  235.215506  36.817413  126.197229  41.823050   \n",
       "2  125.626846  168.990036  243.991493  36.101938  138.967343  42.963806   \n",
       "3  137.181146  170.467802  233.218469  38.606766  149.574499  45.009583   \n",
       "4  119.300384  160.572319  214.513367  37.410079  163.217767  43.318428   \n",
       "\n",
       "          Y05         Y10         Y15         Y20         Y30        b1  \\\n",
       "0  100.000000  100.000000  100.000000  100.000000  100.000000  0.021900   \n",
       "1   99.718693   99.265869   98.948281   98.350537   95.640073  0.023508   \n",
       "2  100.120569  100.398284  100.641394  100.418688   96.750479  0.023260   \n",
       "3  100.268116  100.574060  100.677057  100.416835   97.687782  0.023090   \n",
       "4  100.574698  101.227399  101.318576  100.984574   98.890871  0.022972   \n",
       "\n",
       "         b2        b3  \n",
       "0  0.188112 -0.283152  \n",
       "1  0.216602 -0.318716  \n",
       "2  0.265108 -0.374475  \n",
       "3  0.250679 -0.358777  \n",
       "4  0.261942 -0.373095  "
      ]
     },
     "execution_count": 53,
     "metadata": {},
     "output_type": "execute_result"
    }
   ],
   "source": [
    "data_scen.head()"
   ]
  },
  {
   "cell_type": "code",
   "execution_count": 54,
   "metadata": {},
   "outputs": [],
   "source": [
    "# generate call and puts for microsoft with maturity 6m\n",
    "@njit\n",
    "def get_options(volatilites, stock_prices, n=2000):\n",
    "    dim = 120\n",
    "    maturity = .5\n",
    "    r_f = .02\n",
    "    T = np.arange(-1, dim + 1, 6)\n",
    "    T[0] = 0\n",
    "    res = np.zeros((n, T.shape[0] - 1, 5))\n",
    "    for s in np.arange(n):\n",
    "        volatility = volatilites[s].flatten()[:-1]\n",
    "        stock_price = stock_prices[s].flatten()[:-1]\n",
    "        for i in np.arange(T.shape[0]):\n",
    "            # compute initial option price\n",
    "            K = stock_price[T[i]]\n",
    "            S = stock_price[T[i]]\n",
    "            sigma = volatility[T[i]]\n",
    "\n",
    "            # initial call and put prices\n",
    "            res[s, i, 0], res[s, i, 1] = black_scholes(S, K, maturity, r_f, sigma)\n",
    "\n",
    "            # compute payoffs\n",
    "            S_maturity = stock_price[T[i + 1]]\n",
    "            put_po = np.max(np.array([0., K - S_maturity]))\n",
    "            call_po = np.max(np.array([0., S_maturity - K]))\n",
    "            res[s, i, 2] = S_maturity # stock price at maturity\n",
    "            res[s, i, 3] = K # strike price\n",
    "            res[s, i, 4] = np.max(np.array([put_po, call_po])) # payoff\n",
    "    return res"
   ]
  },
  {
   "cell_type": "code",
   "execution_count": 55,
   "metadata": {},
   "outputs": [],
   "source": [
    "# MSFT STOCK\n",
    "\n",
    "# extract microsoft stock\n",
    "# stock_price_msft = data_scen['KO'].values.reshape((2000, 1, 121))\n",
    "# msft = np.diff(np.log(stock_price_msft), axis=2)\n",
    "# var_msft = np.var(msft, axis=2)\n",
    "\n",
    "# # approximate implied volatility for microsoft\n",
    "# lbd = .97\n",
    "# dim = 121\n",
    "# n = msft.shape[0]\n",
    "# vol_msft = np.zeros((n, dim, 1))\n",
    "# for i in np.arange(n):\n",
    "#     vol_msft[i] = ewma(var_msft[i], lbd, msft[i].flatten(), dim, n_assets=1)\n",
    "\n",
    "# msft_options = get_options(vol_msft, stock_price_msft)"
   ]
  },
  {
   "cell_type": "code",
   "execution_count": 56,
   "metadata": {},
   "outputs": [],
   "source": [
    "# STOCK INDEX\n",
    "\n",
    "# extract index stock\n",
    "index_price = data_scen.loc[:, 'BA':'XOM'].mean(axis=1).values.reshape((2000, 1, 121))\n",
    "index_return = np.diff(np.log(index_price), axis=2)\n",
    "var_index = np.var(index_return, axis=2)\n",
    "\n",
    "# approximate implied volatility for stock index\n",
    "lbd = .97\n",
    "dim = 121\n",
    "n = index_return.shape[0]\n",
    "vol_index = np.zeros((n, dim, 1))\n",
    "for i in np.arange(n):\n",
    "    vol_index[i] = ewma(var_index[i], lbd, index_return[i].flatten(), dim, n_assets=1)\n",
    "\n",
    "# index options\n",
    "index_options = get_options(vol_index, index_price)"
   ]
  },
  {
   "cell_type": "code",
   "execution_count": 57,
   "metadata": {},
   "outputs": [],
   "source": [
    "# ALM parameters\n",
    "V0 = 2_600_000. # initial 2nd order reserve\n",
    "P = 120_000. # yearly premium\n",
    "retirement_age = 65 # retirement age\n",
    "init_age = 60 # initial age of policyholder\n",
    "transfer_prob_yearly = .02 # yearly transfer rate\n",
    "transfer_prob = 1. - np.power(1 - transfer_prob_yearly, 1. / 12.) # monthly transfer rate\n",
    "payout_limit = 120\n",
    "r_y = .02 # yearly prognosis rate\n",
    "d_p = np.log(1 + r_y) # continuous compounding of prognosis rate\n",
    "b_G = b / 12. # guaranteed payoff, if B(t) < b\n",
    "lbd_NS = .7308 # Nielson-Siegel lambda"
   ]
  },
  {
   "cell_type": "code",
   "execution_count": 58,
   "metadata": {},
   "outputs": [],
   "source": [
    "params_gen = init_age, transfer_prob, retirement_age, V0, P, payout_limit, d_p, b_G, lbd_NS\n",
    "strategy = 'CPPI(2)-DD-LS'\n",
    "option_data = index_options\n",
    "n_scenarios = 2000\n",
    "sim_strategy = generate_scenarios(\n",
    "    data_scen, pop_120.values, params_gen,\n",
    "    makeham_params_women, strategy=strategy,\n",
    "    n_scenarios=n_scenarios,\n",
    "    option_data=option_data\n",
    ")"
   ]
  },
  {
   "cell_type": "code",
   "execution_count": 59,
   "metadata": {},
   "outputs": [
    {
     "data": {
      "image/png": "[encoded data removed]",
      "text/plain": [
       "<Figure size 1008x432 with 1 Axes>"
      ]
     },
     "metadata": {},
     "output_type": "display_data"
    }
   ],
   "source": [
    "s = 1\n",
    "plt.figure(figsize=(14, 6))\n",
    "plt.plot(sim_strategy['Payoff'][s], label='Payoff')\n",
    "plt.plot(sim_strategy['Portfolio'][s], label='Portfolio')\n",
    "plt.plot(sim_strategy['E[V]'][s], label='E[V]')\n",
    "plt.plot(sim_strategy['BOF'][s], label='BOF')\n",
    "plt.plot(sim_strategy['BE'][s], label='BE')\n",
    "plt.legend()\n",
    "plt.show()"
   ]
  },
  {
   "cell_type": "code",
   "execution_count": 60,
   "metadata": {},
   "outputs": [],
   "source": [
    "#pd.DataFrame(msft_options[s], columns=['C0', 'P0', 'S', 'K', 'payoff'])"
   ]
  },
  {
   "cell_type": "code",
   "execution_count": 61,
   "metadata": {},
   "outputs": [
    {
     "data": {
      "image/png": "[encoded data removed]",
      "text/plain": [
       "<Figure size 720x504 with 1 Axes>"
      ]
     },
     "metadata": {},
     "output_type": "display_data"
    }
   ],
   "source": [
    "# compute delta BOF for 1 year\n",
    "y_BOF, d_BOF, var_BOF = get_delta_BOF(sim_strategy['BOF'])\n",
    "\n",
    "# visualize BOF(1) distribution for the strategy\n",
    "plt.figure(figsize=(10, 7))\n",
    "plt.hist(y_BOF, bins=50, color='green', alpha=.65, edgecolor='black', linewidth=.5)\n",
    "plt.xlim([-500000, 2500000])\n",
    "plt.title(f'Strategy: {strategy}')\n",
    "plt.xlabel('BOF(1)')\n",
    "plt.ylabel('Frequency')\n",
    "plt.show()"
   ]
  },
  {
   "cell_type": "code",
   "execution_count": 62,
   "metadata": {},
   "outputs": [
    {
     "name": "stdout",
     "output_type": "stream",
     "text": [
      "Strategy: CPPI(2)-DD-LS\n",
      "SCR: -235229.18032103145\n"
     ]
    }
   ],
   "source": [
    "print('Strategy:', strategy)\n",
    "print('SCR:', var_BOF)"
   ]
  },
  {
   "cell_type": "code",
   "execution_count": 63,
   "metadata": {},
   "outputs": [],
   "source": [
    "params_gen = init_age, transfer_prob, retirement_age, V0, P, payout_limit, d_p, b_G, lbd_NS\n",
    "strategy_ = 'CPPI(2)-DD'\n",
    "option_data = index_options\n",
    "n_scenarios = 2000\n",
    "sim_strategy_ = generate_scenarios(\n",
    "    data_scen, pop_120.values, params_gen,\n",
    "    makeham_params_women, strategy=strategy_,\n",
    "    n_scenarios=n_scenarios,\n",
    "    option_data=option_data\n",
    ")"
   ]
  },
  {
   "cell_type": "code",
   "execution_count": 64,
   "metadata": {},
   "outputs": [
    {
     "data": {
      "image/png": "[encoded data removed]",
      "text/plain": [
       "<Figure size 720x504 with 1 Axes>"
      ]
     },
     "metadata": {},
     "output_type": "display_data"
    }
   ],
   "source": [
    "# compute delta BOF for 1 year\n",
    "y_BOF_, d_BOF_, var_BOF_ = get_delta_BOF(sim_strategy_['BOF'])\n",
    "\n",
    "# visualize BOF(1) distribution for the strategy\n",
    "plt.figure(figsize=(10, 7))\n",
    "plt.hist(y_BOF, bins=50, color='green', alpha=.65, edgecolor='black', linewidth=.5, label=strategy)\n",
    "plt.hist(y_BOF_, bins=50, color='red', alpha=.65, edgecolor='black', linewidth=.5, label=strategy_)\n",
    "plt.xlim([-500000, 2500000])\n",
    "plt.title('Comparison')\n",
    "plt.xlabel('BOF(1)')\n",
    "plt.ylabel('Frequency')\n",
    "plt.legend(frameon=1, facecolor='white', framealpha=1, title='Strategy')\n",
    "plt.show()"
   ]
  },
  {
   "cell_type": "code",
   "execution_count": 65,
   "metadata": {},
   "outputs": [
    {
     "name": "stdout",
     "output_type": "stream",
     "text": [
      "Strategy: CPPI(2)-DD\n",
      "SCR: -272153.8681894542\n"
     ]
    }
   ],
   "source": [
    "print('Strategy:', strategy_)\n",
    "print('SCR:', var_BOF_)"
   ]
  },
  {
   "cell_type": "code",
   "execution_count": 66,
   "metadata": {},
   "outputs": [],
   "source": [
    "def plot_sample(res, strategy, n_scenarios=2000, n_plots=5):\n",
    "    samples = np.random.choice(n_scenarios, n_plots)\n",
    "    for i in samples:\n",
    "        plt.figure(figsize=(12, 4))\n",
    "        plt.plot(res['E[V]'][i], label='E[V]')\n",
    "        plt.plot(res['E[G]'][i], label='E[G]')\n",
    "        plt.plot(res['BE'][i], label='BE')\n",
    "        plt.plot(res['BOF'][i], label='BOF')\n",
    "        plt.title(f'Strategy: {strategy}')\n",
    "        plt.xlabel('Simulated Month')\n",
    "        plt.legend(frameon=1, facecolor='white', framealpha=1, title='Item', loc=2)\n",
    "        plt.tight_layout()\n",
    "        plt.show()"
   ]
  },
  {
   "cell_type": "code",
   "execution_count": 67,
   "metadata": {},
   "outputs": [],
   "source": [
    "# plot_sample(sim_strategy, strategy)"
   ]
  },
  {
   "cell_type": "markdown",
   "metadata": {},
   "source": [
    "### 7. ALM analysis"
   ]
  },
  {
   "cell_type": "markdown",
   "metadata": {},
   "source": [
    "### a) Compare strategies"
   ]
  },
  {
   "cell_type": "code",
   "execution_count": 68,
   "metadata": {},
   "outputs": [],
   "source": [
    "def get_analysis(data, pop, strategies, params, makeham_params, option_data, n_scenarios=2000):\n",
    "    res = dict()\n",
    "    for strategy in strategies:\n",
    "        sim_strategy = generate_scenarios(\n",
    "            data, pop.values, params,\n",
    "            makeham_params, strategy=strategy,\n",
    "            n_scenarios=n_scenarios,\n",
    "            option_data=option_data\n",
    "        )\n",
    "        BOF = sim_strategy['BOF']\n",
    "        idx = BOF > 0\n",
    "        solvent_idx = np.any(idx, axis=1)\n",
    "        median_BOF = np.percentile(BOF[solvent_idx, -1], q=50)\n",
    "        insolvency_prob = np.mean(np.any(np.logical_not(idx), axis=1))\n",
    "        res[strategy] = [insolvency_prob, median_BOF]\n",
    "    return res"
   ]
  },
  {
   "cell_type": "code",
   "execution_count": 69,
   "metadata": {},
   "outputs": [],
   "source": [
    "# strategies = [\n",
    "#     'BH(0/100)',\n",
    "#     'BH(50/50)',\n",
    "#     'CM(50/50)-1',\n",
    "#     'CM(50/50)-2',\n",
    "#     'CM(50/50)-LS',\n",
    "#     'CPPI(2)',\n",
    "#     'CPPI(2)-DD',\n",
    "#     'CPPI(2)-DD-LS'\n",
    "# ]\n",
    "# analysis = get_analysis(\n",
    "#     data_scen, pop_120, strategies, params_gen, makeham_params_women, index_options\n",
    "# )"
   ]
  },
  {
   "cell_type": "code",
   "execution_count": 70,
   "metadata": {},
   "outputs": [],
   "source": [
    "# # display analysis\n",
    "# pd.DataFrame(analysis, index=['Insolvency probability', 'Median BOF']).T"
   ]
  },
  {
   "cell_type": "code",
   "execution_count": 71,
   "metadata": {},
   "outputs": [],
   "source": [
    "# # median - insolvency probability plot\n",
    "# plt.figure(figsize=(10, 6))\n",
    "# for s in strategies:\n",
    "#     x, y = analysis[s]\n",
    "#     plt.scatter(x, y, label=s, s=125, edgecolors='black')\n",
    "# plt.ylabel('Median BOF')\n",
    "# plt.xlabel('Insolvency Probability')\n",
    "# plt.legend(frameon=1, facecolor='white', framealpha=1, title='Strategy')\n",
    "# plt.tight_layout()\n",
    "# plt.savefig('plots_CA3b/7a.png', dpi=plt_dpi, bbox_inches='tight')\n",
    "# plt.show()"
   ]
  },
  {
   "cell_type": "markdown",
   "metadata": {},
   "source": [
    "### b) Visualize scenario 3 and 4\n",
    "Plot the evolution of the assets, expected 1st- and 2nd order reserve, BE and BOF"
   ]
  },
  {
   "cell_type": "code",
   "execution_count": null,
   "metadata": {},
   "outputs": [],
   "source": []
  },
  {
   "cell_type": "markdown",
   "metadata": {},
   "source": [
    "### 8. Stress test"
   ]
  },
  {
   "cell_type": "code",
   "execution_count": 72,
   "metadata": {},
   "outputs": [],
   "source": [
    "# import data and extract 2008\n",
    "market_data = pd.read_csv(\n",
    "    'data/market_data.csv',\n",
    "    sep=';',\n",
    "    index_col='Date'\n",
    ")\n",
    "data_2008 = market_data.iloc[625:678,:]"
   ]
  },
  {
   "cell_type": "code",
   "execution_count": null,
   "metadata": {},
   "outputs": [],
   "source": [
    "# Extract log returns\n",
    "log_data_2008 = np.log(data_2008).diff().dropna()\n",
    "\n",
    "# Convert returns to monthly\n",
    "log_data_2008['Month'] = pd.DatetimeIndex(log_data_2008.index).month\n",
    "log_data_monthly_2008 = []\n",
    "\n",
    "for i in np.arange(1,13):\n",
    "  log_data_monthly_2008.append(np.sum(log_data_2008[log_data_2008['Month']==i]))\n",
    "\n",
    "#Extract last prices of 2020\n",
    "data_2020 = market_data.iloc[-1,:]\n",
    "\n",
    "#Apply monthly returns from 2008\n",
    "data_2020_monthly = np.zeros([len(log_data_monthly_2008) + 1, 15])\n",
    "data_2020_monthly[0] = data_2020\n",
    "i = 1;\n",
    "for ret in log_data_monthly_2008:\n",
    "  data_2020_monthly[i] = data_2020_monthly[i-1] * np.exp(ret[:-1])\n",
    "  i = i + 1\n",
    "\n",
    "# Create dataframe\n",
    "data_2020_monthly = pd.DataFrame(data_2020_monthly)\n",
    "data_2020_monthly.columns = market_data.columns[:]\n",
    "\n",
    "# Get zero coupon bonds\n",
    "rates = data_2020_monthly.loc[:,'Y05':'Y30']\n",
    "zcb = np.zeros([rates.shape[0],rates.shape[1]])\n",
    "T = [5,10,15,20,30]\n",
    "init_zcb = [100,100,100,100,100]\n",
    "zcb[0,:] = init_zcb\n",
    "\n",
    "for t in range(1,rates.shape[0]):\n",
    "  zcb[t,:] = 100 * np.exp(-rates.iloc[t,:]*T)\n",
    "\n",
    "zcb = pd.DataFrame(zcb)\n",
    "zcb.columns = market_data.columns[10:15]\n",
    "\n",
    "# Extract NS-parameters given rates \n",
    "Betas = np.zeros([rates.shape[0],3])\n",
    "lbs_NS = 0.7308\n",
    "T = np.array([5,10,15,20,30])\n",
    "for t in range(0,rates.shape[0]):\n",
    "  M = np.zeros([rates.shape[1],3])\n",
    "  M[:,0] = np.ones(rates.shape[1])\n",
    "  M[:,1] = f2(lbd_NS,T)\n",
    "  M[:,2] = f3(lbd_NS,T)\n",
    "  r = rates.iloc[t,:].values\n",
    "\n",
    "  beta = np.linalg.inv((np.transpose(M)@M))@np.transpose(M)@r\n",
    "  Betas[t,:] = beta\n",
    "\n",
    "# Replace rates with bonds in data and add NS-parameters \n",
    "data_2020_monthly.loc[:,'Y05':'Y30'] = zcb\n",
    "\n",
    "parameters = ['b1','b2','b3']\n",
    "data_2020_monthly[parameters[0]] = Betas[:,0]\n",
    "data_2020_monthly[parameters[1]] = Betas[:,1]\n",
    "data_2020_monthly[parameters[2]] = Betas[:,2]"
   ]
  },
  {
   "cell_type": "code",
   "execution_count": 93,
   "metadata": {},
   "outputs": [],
   "source": [
    "#New NS-parameters\n",
    "NS1 = data_2020_monthly.loc[:,'b1':'b3'].values\n",
    "params = init_age, transfer_prob, retirement_age, V0, P, payout_limit, d_p, b_G, lbd_NS\n",
    "E = (pop_120['PP'] + pop_120['PO']).values[:13]\n",
    "dummy_option = np.zeros((3, 3))\n",
    "\n",
    "#Strategy 1\n",
    "V1, BE1, _, _ = sim_ALM_gen(\n",
    "    data_2020_monthly.values, NS1, pop_120.values, params,\n",
    "    makeham_params_women, strategy='BH(0/100)', option_data=dummy_option, T=12\n",
    ")\n",
    "\n",
    "#Strategy 2\n",
    "V2, BE2, _, _ = sim_ALM_gen(\n",
    "    data_2020_monthly.values, NS1, pop_120.values, params,\n",
    "    makeham_params_women, strategy='BH(50/50)', option_data=dummy_option, T=12\n",
    ")"
   ]
  },
  {
   "cell_type": "code",
   "execution_count": 94,
   "metadata": {},
   "outputs": [],
   "source": [
    "#Compute BOF\n",
    "BOF1 = V1 * E - BE1\n",
    "BOF2 = V2 * E - BE2"
   ]
  },
  {
   "cell_type": "code",
   "execution_count": 95,
   "metadata": {},
   "outputs": [],
   "source": [
    "# compute delta BOF for 1 year and SCR\n",
    "delta_BOF1 = BOF1[-1] - BOF1[0]\n",
    "delta_BOF2 = BOF2[-1] - BOF2[0]"
   ]
  },
  {
   "cell_type": "code",
   "execution_count": 96,
   "metadata": {},
   "outputs": [
    {
     "data": {
      "text/plain": [
       "-705771.4285740317"
      ]
     },
     "execution_count": 96,
     "metadata": {},
     "output_type": "execute_result"
    }
   ],
   "source": [
    "# Delta BOF for strategy BH(0/100)\n",
    "delta_BOF1"
   ]
  },
  {
   "cell_type": "code",
   "execution_count": 97,
   "metadata": {},
   "outputs": [
    {
     "data": {
      "text/plain": [
       "-719365.621332054"
      ]
     },
     "execution_count": 97,
     "metadata": {},
     "output_type": "execute_result"
    }
   ],
   "source": [
    "# Delta BOF for strategy BH(50/50)\n",
    "delta_BOF2"
   ]
  }
 ],
 "metadata": {
  "interpreter": {
   "hash": "227483544e21d21530aad397e213da3ea0474c1a3162f2cb47f6636053c915ff"
  },
  "kernelspec": {
   "display_name": "Python 3.9.8 64-bit",
   "name": "python3"
  },
  "language_info": {
   "codemirror_mode": {
    "name": "ipython",
    "version": 3
   },
   "file_extension": ".py",
   "mimetype": "text/x-python",
   "name": "python",
   "nbconvert_exporter": "python",
   "pygments_lexer": "ipython3",
   "version": "3.9.9"
  },
  "orig_nbformat": 4
 },
 "nbformat": 4,
 "nbformat_minor": 2
}
